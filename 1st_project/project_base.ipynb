{
 "cells": [
  {
   "cell_type": "markdown",
   "metadata": {},
   "source": [
    "## Data Load and Exploration"
   ]
  },
  {
   "cell_type": "code",
   "execution_count": 61,
   "metadata": {},
   "outputs": [
    {
     "data": {
      "text/html": [
       "<div>\n",
       "<style scoped>\n",
       "    .dataframe tbody tr th:only-of-type {\n",
       "        vertical-align: middle;\n",
       "    }\n",
       "\n",
       "    .dataframe tbody tr th {\n",
       "        vertical-align: top;\n",
       "    }\n",
       "\n",
       "    .dataframe thead th {\n",
       "        text-align: right;\n",
       "    }\n",
       "</style>\n",
       "<table border=\"1\" class=\"dataframe\">\n",
       "  <thead>\n",
       "    <tr style=\"text-align: right;\">\n",
       "      <th></th>\n",
       "      <th>Date_published</th>\n",
       "      <th>Headline</th>\n",
       "      <th>Synopsis</th>\n",
       "      <th>Full_text</th>\n",
       "      <th>Final Status</th>\n",
       "    </tr>\n",
       "  </thead>\n",
       "  <tbody>\n",
       "    <tr>\n",
       "      <th>0</th>\n",
       "      <td>2022-06-21</td>\n",
       "      <td>Banks holding on to subsidy share, say payment...</td>\n",
       "      <td>The companies have written to the National Pay...</td>\n",
       "      <td>ReutersPayments companies and banks are at log...</td>\n",
       "      <td>Negative</td>\n",
       "    </tr>\n",
       "    <tr>\n",
       "      <th>1</th>\n",
       "      <td>2022-04-19</td>\n",
       "      <td>Digitally ready Bank of Baroda aims to click o...</td>\n",
       "      <td>At present, 50% of the bank's retail loans are...</td>\n",
       "      <td>AgenciesThe bank presently has 20 million acti...</td>\n",
       "      <td>Positive</td>\n",
       "    </tr>\n",
       "    <tr>\n",
       "      <th>2</th>\n",
       "      <td>2022-05-27</td>\n",
       "      <td>Karnataka attracted investment commitment of R...</td>\n",
       "      <td>Karnataka is at the forefront in attracting in...</td>\n",
       "      <td>PTIKarnataka Chief Minister Basavaraj Bommai.K...</td>\n",
       "      <td>Positive</td>\n",
       "    </tr>\n",
       "    <tr>\n",
       "      <th>3</th>\n",
       "      <td>2022-04-06</td>\n",
       "      <td>Splitting of provident fund accounts may be de...</td>\n",
       "      <td>The EPFO is likely to split accounts only at t...</td>\n",
       "      <td>Getty ImagesThe budget for FY22 had imposed in...</td>\n",
       "      <td>Negative</td>\n",
       "    </tr>\n",
       "    <tr>\n",
       "      <th>4</th>\n",
       "      <td>2022-06-14</td>\n",
       "      <td>Irdai weighs proposal to privatise Insurance I...</td>\n",
       "      <td>Set up in 2009 as an advisory body, IIB collec...</td>\n",
       "      <td>AgenciesThere is a view in the insurance indus...</td>\n",
       "      <td>Positive</td>\n",
       "    </tr>\n",
       "  </tbody>\n",
       "</table>\n",
       "</div>"
      ],
      "text/plain": [
       "  Date_published                                           Headline  \\\n",
       "0     2022-06-21  Banks holding on to subsidy share, say payment...   \n",
       "1     2022-04-19  Digitally ready Bank of Baroda aims to click o...   \n",
       "2     2022-05-27  Karnataka attracted investment commitment of R...   \n",
       "3     2022-04-06  Splitting of provident fund accounts may be de...   \n",
       "4     2022-06-14  Irdai weighs proposal to privatise Insurance I...   \n",
       "\n",
       "                                            Synopsis  \\\n",
       "0  The companies have written to the National Pay...   \n",
       "1  At present, 50% of the bank's retail loans are...   \n",
       "2  Karnataka is at the forefront in attracting in...   \n",
       "3  The EPFO is likely to split accounts only at t...   \n",
       "4  Set up in 2009 as an advisory body, IIB collec...   \n",
       "\n",
       "                                           Full_text Final Status  \n",
       "0  ReutersPayments companies and banks are at log...     Negative  \n",
       "1  AgenciesThe bank presently has 20 million acti...     Positive  \n",
       "2  PTIKarnataka Chief Minister Basavaraj Bommai.K...     Positive  \n",
       "3  Getty ImagesThe budget for FY22 had imposed in...     Negative  \n",
       "4  AgenciesThere is a view in the insurance indus...     Positive  "
      ]
     },
     "execution_count": 61,
     "metadata": {},
     "output_type": "execute_result"
    }
   ],
   "source": [
    "import pandas as pd\n",
    "import numpy as np\n",
    "\n",
    "dataset = pd.read_csv(\"data/dataset.csv\", encoding=\"utf-8\")\n",
    "\n",
    "dataset.head()"
   ]
  },
  {
   "cell_type": "markdown",
   "metadata": {},
   "source": [
    "## Data Cleaning"
   ]
  },
  {
   "cell_type": "markdown",
   "metadata": {},
   "source": [
    "On line 97 of the original dataset CSV file, a space was found after the class label, originating in a new erroneous class."
   ]
  },
  {
   "cell_type": "code",
   "execution_count": 62,
   "metadata": {},
   "outputs": [
    {
     "data": {
      "text/plain": [
       "'Positive '"
      ]
     },
     "execution_count": 62,
     "metadata": {},
     "output_type": "execute_result"
    }
   ],
   "source": [
    "dataset.iloc[97][\"Final Status\"]"
   ]
  },
  {
   "cell_type": "code",
   "execution_count": 63,
   "metadata": {},
   "outputs": [
    {
     "data": {
      "text/plain": [
       "'Positive'"
      ]
     },
     "execution_count": 63,
     "metadata": {},
     "output_type": "execute_result"
    }
   ],
   "source": [
    "dataset.loc[97, \"Final Status\"] = 'Positive'\n",
    "dataset.iloc[97][\"Final Status\"]"
   ]
  },
  {
   "cell_type": "code",
   "execution_count": 64,
   "metadata": {},
   "outputs": [],
   "source": [
    "# Convert to binary\n",
    "dataset[\"Final Status\"] = dataset[\"Final Status\"].map({\"Positive\": 1, \"Negative\": 0})"
   ]
  },
  {
   "cell_type": "code",
   "execution_count": 65,
   "metadata": {},
   "outputs": [
    {
     "name": "stdout",
     "output_type": "stream",
     "text": [
      "Missing Values:\n",
      " Date_published    0\n",
      "Headline          0\n",
      "Synopsis          1\n",
      "Full_text         0\n",
      "Final Status      0\n",
      "dtype: int64\n"
     ]
    }
   ],
   "source": [
    "print(\"Missing Values:\\n\", dataset.isnull().sum())"
   ]
  },
  {
   "cell_type": "markdown",
   "metadata": {},
   "source": [
    "Since it's just an empty Synopsis, and we still have the title and full text, then we can leave it in the corpus. (However, we need to converter NaN field to empty string, otherwise the whole article would be ignored on the preprocessing phase.)"
   ]
  },
  {
   "cell_type": "code",
   "execution_count": 66,
   "metadata": {},
   "outputs": [
    {
     "data": {
      "text/plain": [
       "Index([56], dtype='int64')"
      ]
     },
     "execution_count": 66,
     "metadata": {},
     "output_type": "execute_result"
    }
   ],
   "source": [
    "# Check  and clean empty Synopsis\n",
    "dataset[dataset[\"Synopsis\"].isna()].index"
   ]
  },
  {
   "cell_type": "code",
   "execution_count": 67,
   "metadata": {},
   "outputs": [],
   "source": [
    "dataset.loc[56, \"Synopsis\"] = \" \""
   ]
  },
  {
   "cell_type": "markdown",
   "metadata": {},
   "source": [
    "## Preprocessing Text"
   ]
  },
  {
   "cell_type": "code",
   "execution_count": 68,
   "metadata": {},
   "outputs": [],
   "source": [
    "import re, string\n",
    "import nltk\n",
    "from nltk.tokenize import word_tokenize\n",
    "from nltk.corpus import stopwords\n",
    "from nltk.stem import WordNetLemmatizer\n",
    "from nltk.stem.porter import PorterStemmer\n",
    "\n",
    "\n",
    "lemmatizer = WordNetLemmatizer()\n",
    "ps = PorterStemmer()"
   ]
  },
  {
   "cell_type": "code",
   "execution_count": 69,
   "metadata": {},
   "outputs": [],
   "source": [
    "#replace contractions\n",
    "def decontracted(phrase):\n",
    "    phrase = re.sub(r\"\\'t\", \"not\", phrase)\n",
    "    phrase = re.sub(r\"\\'re\", \" are\", phrase)\n",
    "    phrase = re.sub(r\"\\'s\", \" is\", phrase)\n",
    "    phrase = re.sub(r\"\\'d\", \" would\", phrase)\n",
    "    phrase = re.sub(r\"\\'ll\", \" will\", phrase)\n",
    "    phrase = re.sub(r\"\\'ve\", \" have\", phrase)\n",
    "    phrase = re.sub(r\"\\'m\", \" am\", phrase)\n",
    "    return phrase"
   ]
  },
  {
   "cell_type": "code",
   "execution_count": 70,
   "metadata": {},
   "outputs": [],
   "source": [
    "def preprocess_text(text):\n",
    "    text = decontracted(text)\n",
    "    text = re.sub(\"[^a-zA-Z]\", \" \", str(text))  # alpha only\n",
    "    text = re.sub(r\"\\s+[a-zA-Z]\\s+\", \" \", text)  # Remove single characters\n",
    "    text = re.sub(r\"\\s+\", \" \", text)  # Remove multiple spaces\n",
    "    tokens = word_tokenize(text.lower())\n",
    "    tokens = [ps.stem(token) for token in tokens]\n",
    "    return \" \".join(tokens)"
   ]
  },
  {
   "cell_type": "code",
   "execution_count": 71,
   "metadata": {},
   "outputs": [],
   "source": [
    "corpus = []\n",
    "dataset[\"processed_article\"] = (\n",
    "    dataset[\"Headline\"] + \" \" + dataset[\"Synopsis\"] + \" \" + dataset[\"Full_text\"]\n",
    ")\n",
    "\n",
    "# for future use in Lexicons\n",
    "dataset[\"full_article\"] = (\n",
    "    dataset[\"Headline\"] + \" \" + dataset[\"Synopsis\"] + \" \" + dataset[\"Full_text\"]\n",
    ")\n",
    "\n",
    "for i in range(len(dataset[\"processed_article\"])):\n",
    "    dataset.loc[i,\"processed_article\"] = preprocess_text(dataset[\"processed_article\"][i])\n",
    "    corpus.append(dataset[\"processed_article\"][i])"
   ]
  },
  {
   "cell_type": "code",
   "execution_count": 72,
   "metadata": {},
   "outputs": [
    {
     "data": {
      "text/plain": [
       "['bank hold on to subsidi share say payment firm the compani have written to the nation payment corp of india npci complain that crore of the crore grant in the budget is be retain by bank reuterspay compani and bank are at loggerhead over the share of govern grant subsidi for build payment infrastructur said three peopl with knowledg of the matter the compani have written to the nation payment corp of india npci complain that crore of the crore grant in the budget is be retain by bank they said thi ha depriv compani connect up the last mile of state promis revenu accord to them the govern grant the subsidi in exchang for waiv merchant discount rate mdr charg the govern ha releas crore worth of subsidi to bank but they are not share it with ani payment aggreg said the ceo of payment compani on condit of anonym compens for mdr waiver we have taken up the matter with npci which is the nodal agenc but the feedback that we got is that we should take the matter up with respect bank but they are not respond last year financ minist nirmala sitharaman had announc rs crore fund to hasten the expans of india is digit payment industri move that wa seen as compens for the waiver of mdr on the use of the unifi payment interfac upi and rupay card in her previou budget payment aggreg are entitl to receiv basi point subvent on small valu digit transact basi point is percentag point we have ask all bank for whom we process transact on the rupay debit card they are not share ani subsidi amount with us said anoth ceo payment aggreg put in so much effort to acquir transact on the rupay platform when most bank were either surrend these card or go slow on expans bank didnnot respond to queri on the matter current the cost of digit payment servic such as switch fee or interchang fee is born by one or more of the payment system particip or is pass on to merchant through the mdr or ultim levi on the custom as addit charg the reserv bank of india rbi said it will carri out comprehens review of all aspect relat to charg involv in variou channel of digit payment in the recent releas payment vision document we believ thi review could result in rel higher credit card and wallet mdr and the introduct of mdr on upi to at least cover the cost said anand dama senior research analyst emkay global while the adopt of electron payment ha surg concern abound over viabil total digit payment rose and in term of volum and valu respect in march from the year earlier accord to rbi data on the other hand usag of paper instrument such as chequ declin significantli dure the period with their share in total retail payment regist declin from to in term of volum and from to in term of valu',\n",
       " 'digit readi bank of baroda aim to click on more loan at present of the bank is retail loan are sourc digit out of thi of the bank is person loan are disburs end to end digit while the bulk of the home loan origin is done digit agenciesth bank present ha million activ user on it mobil app with plan to reach million custom in year is time after overhaul it it infrastructur to set up digit bank depart intern public sector lender bank of baroda is now target at least of retail origin and of msme loan valu wise to be done digit by the end of the current fiscal year the bank is also target crore of digit lend in the current fiscal year we believ that thi year we will disburs loan of over crore through our digit bank thi year alon said akhil handa chief digit offic bank of baroda thi will be combin of retail home auto person loan and small ticket msme loan mudra loan and small ticket busi loan we have substanti advantag over peer bank that are get start with their digit journey handa ad that at least crore crore will come from lend to the retail sector while the balanc will be contribut by the msme segment at present of the bank is retail loan are sourc digit out of thi of the bank is person loan are disburs end to end digit while the bulk of the home loan origin is done digit about of all new retail account were done digit about of retail and of msme will be digit thi year our thrust is on the person loan product and look at the present run rate that alon will help us reach our lend goal handa said the public sector lender is also aim to onboard of new retail custom through mobil bank and book of it deposit through thi mode last year the bank roll out digit lend depart that will digitis half of it lakh crore balanc sheet includ retail msme and agricultur the bank expect the move toward digitis would help it bring down the cost of oper by recent the bank launch bob world it all new digit bank platform which is aim at provid an all inclus and seamless virtual bank experi the bank present ha million activ user on it mobil app with plan to reach million custom in year is time it is aim that nearli of it non financi inclus custom will use thi app as primari interfac our market share of mobil bank applic download is which is twice our market share of retail custom deposit which is handa said',\n",
       " 'karnataka attract invest commit of rs crore at wef meet basavaraj bommai karnataka is at the forefront in attract invest and the wef meet ha prove to be success he said as he assert that the state ha not lost or is not go to lose in attract invest in the backdrop of such concern cite certain develop local ptikarnataka chief minist basavaraj bommai karnataka chief minist basavaraj bommai on friday said the state govern ha succeed in draw invest commit worth about rs crore with it particip at the world econom forum meet in davo switzerland karnataka is at the forefront in attract invest and the wef meet ha prove to be success he said as he assert that the state ha not lost or is not go to lose in attract invest in the backdrop of such concern cite certain develop local invest commit worth rs crore crore are expect to flow into the state after our discuss with about compani dure the davo meet bommai said speak to report after return from davo he said the invest are proof of the immens trust and faith karnataka enjoy especi with regard to it technolog base skill manpow among the top corpor of the world they are of the opinion that karnataka is the destin for invest in new technolog the govern is commit to ensur implement of these invest commit with an end to end approach he said ad that all these project would be sanction in six month and it may take one to two year for realis while renew energi relat one would take year the govern is expect good respons to it global investor meet to be held in bengaluru in novemb and the bengaluru tech summit after thi davo meet to question about neighbour andhra pradesh claim higher invest of rs crore invest bommai said karnataka can not be compar with ani other state as the state ha intern standard and is attract invest from compani of similar standard we will also have similar number for exampl adani group ha commit project worth rs crore but they have not sign an mou but they have commit also we have had invest in import area of the futur like hydrogen fuel semiconductor defenc aerospac he said ad that he ha explain to busi leader includ lakshmi mittal execut chairman of arcelormitt about eas of do busi polici of karnataka detail about invest propos the chief minist said renew power pvt ltd ha sign an mou for an invest of rs crore spread over the next seven year for set up renew energi batteri storag green hydrogen unit with employ opportun for about peopl the compani intend to implement the project in two phase he said in the first phase the project which are alreadi under implement would be operationalis within two year with an invest of rs crore and in the second phase renew energi and green hydrogen unit would be set up over the next five year at an invest of rs crore further lulu group intern ha ink an mou for invest rs crore bommai said ad the compani is keen to open four shop mall hyper market and export orient agro product store in the state with employ potenti for more than peopl jubil group is jubil food work ha decid to set up it new centralis kitchen and jubil biosi ha agre to set up it d centr in devanah in acr plot and would be invest rs crore thi year about peopl are alreadi employ in the compani detail present ha also been made for the compani to convinc about attract incent packag to invest in pharma and fmcg sector in the state with major focu on the fmcg park be develop in dharwad hitachi energi ha shown interest in set up ev charg infrastructur renew energi and digitalis project and is keen on employ about engin thi year siemen healthin is undertak d in healthcar project focuss on magnet imag and diagnost with an invest of rs crore the state govern ha assur special incent for set up advanc manufactur of medic devic to cater to the local market with an invest of rs crore thu the compani is keen to invest total of over rs crore in the state further note that the hero group ha discuss set up ev manufactur the chief minist said we have ask them to consid the north karnataka region and we will provid incent under the beyond bengaluru programm the state govern discuss invest opportun in citi like tumakuru hubli dharwad and mysuru ab inbev intend to set up non alcohol beverag unit in the state with an invest of rs crore while nestl is set to expand and modernis it exist instant coffe unit in nanjangud with an invest of rs crore dassault system ha evinc interest to invest in electr vehicl modern product system in associ with central manufactur technolog institut industri train for student in digit technolog and smart citi project in karnataka with total invest of rs crore schneider electr is plan to consolid their facil in attibel to singl unit in jigani with addit capac for manufactur new model of data centr up and energi effici devic with an invest of rs crore arcelormitt plan to set up solar wind hybrid project with an invest of rs crore while bharti enterpris plan to set up mega data centr in karnataka in addit to their exist data centr apart from these adani group dalmia cement johnson control honeywel ibm ikea store paypal axi bank have shown interest to invest in variou sector of the state discuss with corpor honcho includ opportun for set up mega textil park at bijapur kalaburagi product of metro train coach and pharma unit thi wa bommai is first oversea trip as chief minist we',\n",
       " 'split of provid fund account may be delay the epfo is like to split account onli at the time of credit the interest for fy which gener happen between septemb and decemb of the follow fiscal year they ad the epfo had declar an interest rate of for fy at it central board of truste meet last month getti imagesth budget for fy had impos incom tax on interest earn on subscrib contribut of more than lakh year the employe provid fund organis epfo hasnnot yet been abl to split subscrib account into two for member who contribut more than lakh last fiscal which may creat tax complic and file issu expert said the epfo is like to split account onli at the time of credit the interest for fy which gener happen between septemb and decemb of the follow fiscal year they ad the epfo had declar an interest rate of for fy at it central board of truste meet last month the budget for fy had impos incom tax on interest earn on subscrib contribut of more than lakh year sinc incom tax return are requir to be file by juli thi may creat issu if taxpay are not awar of the taxabl interest earn on provid fund contribut as per the plan exist provid fund pf account with an employe contribut of over lakh were to be split into two from april the central board of direct tax cbdt had insert rule in the incom tax rule which specifi that two separ account within the pf account shall be maintain to segreg the taxabl and non taxabl contribut to pf along with the interest paid there is still lack of clariti on the detail of how thi is to be done the epfo did not respond to queri from et on the possibl delay organis with pf trust which have the oblig of withhold tax have start discuss it but await clariti from the epfo on how to go about it as segreg account are not yet in place said saraswathi kasturirangan partner deloitt india thi may happen at the time of credit of interest for the previou fiscal he said top govern offici told et that the epfo is in advanc stage of develop the system and it could be effect anytim as the retir fund bodi start account for the previou year those with basic salari of about lakh or more would fall under thi net as their contribut would exceed lakh voluntari contribut by employe would also be count toward thi limit',\n",
       " 'irdai weigh propos to privatis insur inform bureau set up in as an advisori bodi iib collect transact data from insur for differ line of busi and produc period report for the benefit of stakehold in the insur industri it wa convert into an independ societi in agenciesther is view in the insur industri that iib ha not been abl to achiev it full potenti in absenc of an independ and sustain revenu model said anoth execut awar of the matter insur regul is examin the recommend of committe that ha suggest privatis of the insur inform bureau or iib the committe set up by the insur regulatori and develop author of india or irdai ha said that iib should be turn into privat compani own and oper by the insur industri with legisl back said two execut awar of the matter all recommend are under consider said the first execut explain that privatis bureau will help in maintain the suppli of qualiti data and further make it profit busi entiti privatis of iib will ensur that it explor new area of oper provid better servic to the insur industri and ha an attract revenu model for itself he said ad that the recommend were submit last month set up in as an advisori bodi iib collect transact data from insur for differ line of busi and produc period report for the benefit of stakehold in the insur industri it wa convert into an independ societi in there is view in the insur industri that iib ha not been abl to achiev it full potenti in absenc of an independ and sustain revenu model said anoth execut awar of the matter',\n",
       " 'india uae trade pact to creat huge job opportun boost economi piyush goyal the agreement open the door for mani sector particularli labour intens one such as textil gem and jewelleri pharmaceut and agricultur goyal said while brief the media along with the uae minist for economi abdullah bin touq al marri here agenciesgoy ad that the pact would not onli open door for indian busi to uae but also to other countri as uae is transit point for larg part of africa ci commonwealth of independ state countri and the gulf region the comprehens trade agreement between india and the uae will help in creat huge job opportun and boost growth of the domest economi commerc and industri minist piyush goyal said on friday the bilater pact offici dub as the comprehens econom partnership agreement cepa is expect to increas the bilater trade in good to over usd billion and trade in servic to over usd billion within five year it came into effect from may the agreement open the door for mani sector particularli labour intens one such as textil gem and jewelleri pharmaceut and agricultur goyal said while brief the media along with the uae minist for economi abdullah bin touq al marri here the minist launch india uae start up bridg at the india uae partnership summit organis by industri bodi cii here clearli million of job will be ad if our export which are now at about usd billion which is about nearli rs lakh crore grow as we are plan and my own guess estim is thi partnership can final go up to about usd billion of bilater trade on both side so my sens is that thi will give big boost to econom growth to job and the opportun it open not onli in the uae but in the larger ground for the african region it should significantli give bump up to the indian economi as well goyal said he ad that the pact would not onli open door for indian busi to uae but also to other countri as uae is transit point for larg part of africa ci commonwealth of independ state countri and the gulf region ci countri includ armenia azerbaijan belaru georgia kazakhstan kyrgyzstan moldova russia and tajikistan further goyal said that indian pharma product will get immedi access to the uae market and we believ bilater trade will grow to at least to usd billion in the near futur our own commit is to take it to much higher level accord to the minist the framework is expect to add million job in india and provid opportun to the startup ecosystem in the countri and ha huge potenti for engag on skill develop and educ we are look at signific invest as the uae ha commit over usd billion of invest into india in manufactur infrastructur and servic so the busi will get booster shot the minist said he inform that there are larg number of startup which have emerg in the last six year with more than regist with the ministri india also ha over unicorn with the third largest startup ecosystem in the world he said the uae minist said the pact will add per cent gdp growth to their economi he also said the agreement is not just on product and commod but also into servic ad that there are other opportun that can come along now the growth that we are look at that we want to reach usd billion dollar from usd billion or so today in the next decad our econom model show that thi is an opportun of growth it can actual reach that number the minist said t',\n",
       " 'indian tea associ seek govt help as heavi rain bring assam to standstil as result of the flood and landslid at sever place road commun between barak valley and the brahmaputra valley ha been disrupt thi in turn ha sever affect the suppli of sever essenti input and the dispatch of made tea disrupt of road commun to sever tea estat from the major town of that region have been affect ita said reutersindian tea associ ha sought the help of the assam govern for appropri measur to protect life and livelihood in that region sever flood in assam have given major blow to the tea estat in barak valley which is locat in the southern part of the state as the road commun between the barak valley and brahmaputra valley ha been disrupt tea estat have not been abl to dispatch tea which is caus seriou financi bottleneck to the industri indian tea associ ha sought the help of the assam govern for appropri measur to protect life and livelihood in that region barak valley tea industri which ha histor been suffer from sever tradit problem is also reel under sever econom crisi due to long recessionari condit owe to incess rainfal sinc the first week of may the whole of barak valley is in the grip of sever flood all the river which are reportedli flow much abov the danger level have caus eros in sever area apart from submerg sever town of that region includ silchar the main hub of activ as result of the flood and landslid at sever place road commun between barak valley and the brahmaputra valley ha been disrupt thi in turn ha sever affect the suppli of sever essenti input and the dispatch of made tea disrupt of road commun to sever tea estat from the major town of that region have been affect ita said the inclement weather is also caus disrupt in power and instabl in telecommun ita said that there is great apprehens of scarciti of essenti item like coal if thi kind of weather condit continu shortag of food item in the come day can not be rule out the associ said',\n",
       " 'whatsapp plan cashback for peer transfer merchant payment in india push whatsapp will befor the end of may launch the cashback offer of up to indian rupe for transfer user make on it payment servic which allow contact to send each other fund from within the messeng app said the sourc who have direct knowledg of the compani is plan reuterswhatsapp also want to test such incent for those make mobil payment for relianc jio whatsapp will within week roll out cashback reward to lure more indian to it peer to peer payment servic and is test similar incent for merchant payment two sourc said as the compani seek to compet with rival includ googl the latest move come day after whatsapp won regulatori approv to more than doubl it payment offer to million user in india it biggest market with more than half billion user overal whatsapp will befor the end of may launch the cashback offer of up to indian rupe for transfer user make on it payment servic which allow contact to send each other fund from within the messeng app said the sourc who have direct knowledg of the compani is plan the incent spread over three transact will be given irrespect of the amount be transfer even if it is as littl as indian rupe in what one sourc describ as whatsapp is user acquisit drive the whatsapp cashback amount may appear small but neil shah vice presid of research at counterpoint research said it would be compel enough reason for user to switch you wonnot leav money on the tabl as an indian shah said in statement respond to question from reuter whatsapp said it is run campaign offer cashback incent in phase manner to our user as way to unlock the potenti of payment on whatsapp separ in broader payment push whatsapp is test programm where it will dole out cashback incent for user who pay highway toll and util and other bill straight from the app the two sourc said whatsapp also want to test such incent for those make mobil payment for relianc jio india is biggest telecom oper the sourc said relianc is partner of whatsapp whose parent meta platform inc in invest billion in the indian firm is digit arm whatsapp did not comment on these plan while relianc didnnot respond to request for comment the cashback push come after whatsapp in june conduct an intern studi to assess competit in india seen by reuter the win from behind on india payment studi say incent are among the top sign up reason for our competitor app in india whatsapp also assess it need to go beyond peer to peer payment as user use rival app to make merchant and bill payment which the studi state will be more attract proposit for user to switch over to whatsapp whatsapp compet with alphabet inc is googl pay ant group back paytm and walmart is phonep in india is crowd digit payment market whatsapp is growth ha been hamstrung as india ha for month cap the number of user to which it can offer it payment servic on fear that open it to all it user could strain the countri is financi infrastructur reuter ha report t',\n",
       " 'india slam wto respons to covid stick to fisheri stanc commerc and industri minist piyush goyal said the wto should not negoti rule on non trade relat subject like climat chang and gender which legitim fall within the domain of other inter government organis ptigoy said the humanitarian crisi trigger by spiral food inflat is matter of deep concern and the covid pandem ha reinforc the need and efficaci of food stockhold for the public good thi stori origin appear in on jun india hit out at the world trade organ wto member for not respond to the pandem in time while urg the multilater trade bodi to give prioriti to perman solut for public stockhold befor move to new area india also stuck to it tough stand on fisheri subsidi demand that rich nation present provid not specif fuel subsidi must be subject to some kind of disciplin speak at the plenari session of the th ministeri confer of wto in geneva on sunday commerc and industri minist piyush goyal said the wto should not negoti rule on non trade relat subject like climat chang and gender which legitim fall within the domain of other inter government organis hi statement assum signific in the wake of decis on plurilater on the environ gender and msme make their way into the draft outcom of the wto mc despit mani countri oppos to such initi goyal said the humanitarian crisi trigger by spiral food inflat is matter of deep concern and the covid pandem ha reinforc the need and efficaci of food stockhold for the public good fight for right of our farmer within an hour of land at wto geneva at the ministeri meet discuss prospect of perman solut to public stockhold for food secur with dg ngozi okonjo iweala and my counterpart from develop and least develop nation goyal tweet goyal made it clear that the countri will not buckl under pressur from the develop world to sign ani agreement includ the one on fisheri subsidi dure the june global trade meet as the new text of the draft pact sent for consider to the minist ha fail to address it concern at the plenari he also said that india ramp up suppli of medic product to provid medic and health item global but the wto could not respond with alacr the rich countri need to introspect we need to bow our head in shame for our inabl to respond to the pandem goyal said we have let down the peopl of the ldc and develop countri goyal said the right of indian fishermen and women can not be curtail in ani manner on the contrari those nation respons for deplet fish stock should assum respons have exploit the ocean for far too long by give subsidi he said in repli to et is question on whether the much await fisheri subsidi pact can go through in the backdrop of india is stiff opposit wto director gener ngozi okonjo iweala said we will tri our best to get the fisheri subsidi agreement through we know we are in good stage but whatev happen want you to know we have made so much progress that we are go to land it either now or later mc hint at the possibl of search for solut onli by the next ministeri india introduc compon on deep sea vessel for tradit fishermen onli in under it flagship rs crore pm matsya sampada yojana while reiter that new delhi is keen to finalis the pact to end irrat subsidi and overfish india is make it clear that to achiev sustain big fish subsidis for instanc eu us china japan et al must take greater respons to curtail subsidi and their fish capac the other formal negoti schedul dure the four day long mc includ wto is respons to the pandem includ waiver of trade relat aspect of intellectu properti right trip food secur both subject be schedul for june fisheri subsidi and agricultur on june and final wto reform and ecommerc on june bilater at the ministeri meet he call upon the group of develop countri work collect and reach out to other like mind nation to secur their support in get fair balanc and develop centric outcom at the wto which must includ perman solut for the public stockhold and special safeguard mechan the group includ develop and least develop countri the minist said that the two item primarili on the agenda thi time are solut to public stockhold and the special safeguard mechan to address the destabilis and crippl effect of import surg and downward price movement larg due to huge subsidi by the develop nation shantanu sharma is in geneva at the invit of commerc and industri ministri',\n",
       " 'et award rbi rate hike no surpris though time may be say fm nirmala sitharaman speak at the econom time award for corpor excel sitharaman said the rbi rate hike wa surpris onli becaus it came between two meet of the monetari polici committe et corpor excel award rbi rate hike not surpris say fm nirmala sitharamanfin minist nirmala sitharaman said the centr hadn been surpris by the reserv bank of india rbi rais interest rate thi week and doesn see the move affect the govern infrastructur invest it is the time which came as surpris to mani but the act peopl thought should have been done anyway to what extent could have vari she said at the econom time award for corpor excel that wa held in mumbai on saturday even it came as surpris becaus it came between two monetari polici review she note that in the april polici review rbi had indic that it wa time to act on inflat sitharaman wa present with the et award for busi reform for have guid the indian economi through the most turbul time in recent histori at glitter ceremoni attend by top minist and bureaucrat as well as the cream of the indian industri rbi rais interest rate for the first time in more than three year on may follow an unschedul polici review to rein in price the financ minist also said it make perfect sens to buy oil from russia if it be offer to india at discount rate particularli with inflat on the rise global thought we have been spend lot of time explain india posit not just on the abstent on ukrain when vote took place at the unit nation but also on the fact that if russia is offer it to us at discount rate we will still be buy it becaus it make perfect sens particularli when the world is stress out with inflat she said best interest amid inflat sitharaman said thi wa in the best interest of the nation when commod price are send inflat higher think we will go ahead with what is good for the countri we need cheaper fuel if it is avail whi won we want to buy it we will buy it she said the financ minist observ that she see greater understand among central bank worldwid and that inflat in india isn as much as it is in the us or the uk but still the challeng of recoveri versu inflat seem to be follow particular templat across the globe she said ad that understand how to handl the post pandem recoveri is therefor not uniqu and typic just to india gst rate sitharaman rule out ani major decis on rate rationalis at the next good and servic tax gst council meet want the media to pleas absorb everyth that m say it not happen in the next meet obvious she said onc the rate panel report on the issu wa complet it will be circul in the council for discuss would think that the committe report itself is not befor me she said it is too presumptu for me to think it go to happen in the next meet food fertilis subsidi the food subsidi programm will continu as long as it need we did understand that till such time as we are confid of recoveri and are confid that the poor are abl to stand up for themselv and earn their livelihood comfort we want to extend the food programm for which the outer understand of our limit is rs lakh crore in way that calcul ha been in our mind and even dure the budget prepar that wa well in our consider zone she said the govern is consciou the fertilis subsidi may rise even thi year so farmer aren burden so to an extent we were prepar for an addit alloc both for the pradhan mantri garib kalyan anna yojana and also for the fertilis sitharaman said crypto asset the minist said india stanc on tax crypto asset ha been appreci by multilater agenc the concern in the imf intern monetari fund and in multilater institut is that becaus there is not enough regulatori mechan crypto should not end up violat those fatf financi action task forc norm said sitharaman india took step forward by tax the crypto transact and ha been well receiv they see it as an out of box solut to track the money origin publish on may in video et corpor excel award rbi rate hike not surpris say fm nirmala sitharaman']"
      ]
     },
     "execution_count": 72,
     "metadata": {},
     "output_type": "execute_result"
    }
   ],
   "source": [
    "corpus[:10]"
   ]
  },
  {
   "cell_type": "code",
   "execution_count": 73,
   "metadata": {},
   "outputs": [
    {
     "name": "stdout",
     "output_type": "stream",
     "text": [
      "6502 ['hell', 'ettechpromot', 'standard', 'arbitrag', 'tribe', 'outlet', 'nip', 'amortis', 'enterpris', 'venkata', 'here', 'duli', 'forg', 'amman', 'runaway', 'washington', 'tenur', 'kallam', 'web', 'indor']\n"
     ]
    }
   ],
   "source": [
    "vocab = set()\n",
    "\n",
    "for s in corpus:\n",
    "    vocab.update(s.split())\n",
    "\n",
    "vocab_size = len(vocab)\n",
    "print(vocab_size,list(vocab)[:20])"
   ]
  },
  {
   "cell_type": "markdown",
   "metadata": {},
   "source": [
    "## Vector Representation"
   ]
  },
  {
   "cell_type": "code",
   "execution_count": 74,
   "metadata": {},
   "outputs": [
    {
     "name": "stdout",
     "output_type": "stream",
     "text": [
      "(400, 58851)\n"
     ]
    }
   ],
   "source": [
    "from sklearn.feature_extraction.text import CountVectorizer, TfidfVectorizer\n",
    "\n",
    "# vectorizer = CountVectorizer()\n",
    "#vectorizer = TfidfVectorizer()\n",
    "vectorizer = TfidfVectorizer(ngram_range=(1, 2))\n",
    "X = vectorizer.fit_transform(corpus).toarray()\n",
    "\n",
    "print(X.shape)"
   ]
  },
  {
   "cell_type": "markdown",
   "metadata": {},
   "source": [
    "400 articles with 58851 dimensonal vectors! That is quite high-dimensional. Let's check one (first fifty dimensions):"
   ]
  },
  {
   "cell_type": "code",
   "execution_count": 75,
   "metadata": {},
   "outputs": [
    {
     "name": "stdout",
     "output_type": "stream",
     "text": [
      "Features: ['aa' 'aa plu' 'aadhaar' 'aadhaar link' 'aae' 'aae indian' 'aayog'\n",
      " 'aayog had' 'aayog which' 'ab' 'ab inbev' 'aban' 'aban offshor' 'abat'\n",
      " 'abat that' 'abbott' 'abbott india' 'abdulaziz' 'abdulaziz al' 'abdullah'\n",
      " 'abdullah bin' 'abet' 'abet finserv' 'abhay' 'abhay bhutada' 'abhimanyu'\n",
      " 'abhimanyu kasliw' 'abhinav' 'abhinav capit' 'abhishek' 'abhishek mohta'\n",
      " 'abhishek rastogi' 'abil' 'abil and' 'abil of' 'abil to' 'abl'\n",
      " 'abl these' 'abl to' 'abolish' 'abolish of' 'abolit' 'abolit of' 'abound'\n",
      " 'abound over' 'about' 'about aggress' 'about all' 'about and' 'about at']\n",
      "\n",
      "Vector: [0.         0.         0.         0.         0.         0.\n",
      " 0.         0.         0.         0.         0.         0.\n",
      " 0.         0.         0.         0.         0.         0.\n",
      " 0.         0.05153911 0.05153911 0.         0.         0.\n",
      " 0.         0.         0.         0.         0.         0.\n",
      " 0.         0.         0.         0.         0.         0.\n",
      " 0.         0.         0.         0.         0.         0.\n",
      " 0.         0.         0.         0.03033265 0.         0.\n",
      " 0.         0.        ]\n"
     ]
    }
   ],
   "source": [
    "print(f\"Features: {vectorizer.get_feature_names_out()[:50]}\\n\\nVector: {X[5][:50]}\")"
   ]
  },
  {
   "cell_type": "code",
   "execution_count": 76,
   "metadata": {},
   "outputs": [
    {
     "name": "stdout",
     "output_type": "stream",
     "text": [
      "(400, 58851) (400,)\n"
     ]
    }
   ],
   "source": [
    "y = dataset['Final Status']\n",
    "\n",
    "print(X.shape, y.shape)"
   ]
  },
  {
   "cell_type": "markdown",
   "metadata": {},
   "source": [
    "## Train-Test Split"
   ]
  },
  {
   "cell_type": "code",
   "execution_count": 77,
   "metadata": {},
   "outputs": [
    {
     "name": "stdout",
     "output_type": "stream",
     "text": [
      "(320, 58851) (320,)\n",
      "(80, 58851) (80,)\n",
      "\n",
      "Label distribution in the training set:\n",
      "Final Status\n",
      "1    176\n",
      "0    144\n",
      "Name: count, dtype: int64\n",
      "\n",
      "Label distribution in the test set:\n",
      "Final Status\n",
      "0    40\n",
      "1    40\n",
      "Name: count, dtype: int64\n"
     ]
    }
   ],
   "source": [
    "from sklearn.model_selection import (\n",
    "    train_test_split,\n",
    "    ParameterGrid,\n",
    "    GridSearchCV,\n",
    ")\n",
    "\n",
    "X_train, X_test, y_train, y_test = train_test_split(X, y, test_size = 0.2,random_state=42)\n",
    "\n",
    "print(X_train.shape, y_train.shape)\n",
    "print(X_test.shape, y_test.shape)\n",
    "\n",
    "print(\"\\nLabel distribution in the training set:\")\n",
    "print(y_train.value_counts())\n",
    "\n",
    "print(\"\\nLabel distribution in the test set:\")\n",
    "print(y_test.value_counts())"
   ]
  },
  {
   "cell_type": "markdown",
   "metadata": {},
   "source": [
    "## Modeling (and Tuning) Classifiers"
   ]
  },
  {
   "cell_type": "code",
   "execution_count": 78,
   "metadata": {},
   "outputs": [],
   "source": [
    "from sklearn.pipeline import Pipeline\n",
    "from sklearn.metrics import accuracy_score, precision_score, recall_score, f1_score\n",
    "from sklearn.ensemble import RandomForestClassifier\n",
    "from sklearn.linear_model import LogisticRegression\n",
    "from sklearn.naive_bayes import MultinomialNB\n",
    "from sklearn.tree import DecisionTreeClassifier\n",
    "from sklearn.svm import SVC\n",
    "from sklearn.neural_network import MLPClassifier\n",
    "from xgboost import XGBClassifier"
   ]
  },
  {
   "cell_type": "code",
   "execution_count": 79,
   "metadata": {},
   "outputs": [],
   "source": [
    "classifiers = {\n",
    "    \"Naive Bayes\": MultinomialNB(),\n",
    "    \"Logistic Regression\": LogisticRegression(),\n",
    "    \"Decision Tree\": DecisionTreeClassifier(),\n",
    "    \"Random Forest\": RandomForestClassifier(),\n",
    "    \"SVC\": SVC(),\n",
    "    \"Multi-Layer Perceptron\": MLPClassifier(),\n",
    "    \"XGBoost\": XGBClassifier(),\n",
    "}"
   ]
  },
  {
   "cell_type": "code",
   "execution_count": 80,
   "metadata": {},
   "outputs": [],
   "source": [
    "def evaluate_classifier(classifier, X_train, y_train, X_test, y_test):\n",
    "    classifier.fit(X_train, y_train)\n",
    "    y_pred = classifier.predict(X_test)\n",
    "    accuracy = accuracy_score(y_test, y_pred)\n",
    "    precision = precision_score(y_test, y_pred)\n",
    "    recall = recall_score(y_test, y_pred)\n",
    "    f1 = f1_score(y_test, y_pred)\n",
    "    return accuracy, precision, recall, f1"
   ]
  },
  {
   "cell_type": "markdown",
   "metadata": {},
   "source": [
    "## Hyperparameter Tuning"
   ]
  },
  {
   "cell_type": "code",
   "execution_count": 81,
   "metadata": {},
   "outputs": [],
   "source": [
    "param_grids = {\n",
    "    \"Logistic Regression\": {  # TODO: check this one - some combinations are incompatible\n",
    "        \"solver\": [\"liblinear\", \"saga\", \"lbfgs\"],\n",
    "        \"penalty\": [\"l1\", \"l2\", \"elasticnet\", \"none\"],\n",
    "        \"C\": [0.1, 1.0, 10.0],\n",
    "        \"max_iter\": [1000],\n",
    "    },\n",
    "    \"Decision Tree\": {\n",
    "        \"criterion\": [\"gini\", \"entropy\"],\n",
    "        \"max_depth\": [None, 10, 20],\n",
    "        \"min_samples_split\": [2, 5, 10],\n",
    "        \"min_samples_leaf\": [1, 2, 4],\n",
    "    },\n",
    "    \"Random Forest\": {\n",
    "        \"n_estimators\": [100, 200, 300],\n",
    "        \"max_depth\": [None, 10, 20],\n",
    "        \"min_samples_split\": [2, 5, 10],\n",
    "        \"min_samples_leaf\": [1, 2, 4],\n",
    "    },\n",
    "    \"SVC\": {\n",
    "        \"C\": [0.1, 1.0, 10.0],\n",
    "        \"kernel\": [\"linear\", \"poly\", \"rbf\", \"sigmoid\"],\n",
    "        \"gamma\": [\"scale\", \"auto\"],\n",
    "    },\n",
    "    # TODO: check the next ones - they don't easily converge\n",
    "    \"Multi-Layer Perceptron\": {\n",
    "        \"hidden_layer_sizes\": [(100,), (50, 50), (25, 25, 25)],\n",
    "        \"activation\": [\"identity\", \"logistic\", \"tanh\", \"relu\"],\n",
    "        \"alpha\": [0.001, 0.01],\n",
    "        \"max_iter\": [500],\n",
    "        \"early_stopping\": [True],\n",
    "        \"n_iter_no_change\": [10],\n",
    "    },\n",
    "    \"XGBoost\": {\n",
    "        \"learning_rate\": [0.01, 0.1, 0.3],\n",
    "        \"max_depth\": [3, 6, 9],\n",
    "        \"n_estimators\": [100, 200],\n",
    "        \"subsample\": [0.8, 1.0],\n",
    "    },\n",
    "}"
   ]
  },
  {
   "cell_type": "code",
   "execution_count": 82,
   "metadata": {},
   "outputs": [],
   "source": [
    "def tune_classifiers(classifiers, param_grid, X_train, y_train, X_test, y_test):\n",
    "    best_params = {}\n",
    "\n",
    "    for classifier_name, classifier in classifiers.items():\n",
    "        if classifier_name in param_grids:\n",
    "            param_grid = param_grids[classifier_name]\n",
    "\n",
    "            if param_grid:\n",
    "                print(\"_\" * 40, f\"\\nTuning {classifier_name} model.\\n\\n\")\n",
    "                grid_search = GridSearchCV(\n",
    "                    classifier, param_grid, cv=5, scoring=\"accuracy\", n_jobs=-1\n",
    "                )\n",
    "                grid_search.fit(X_train, y_train)\n",
    "\n",
    "                y_pred = grid_search.predict(X_test)\n",
    "                accuracy = accuracy_score(y_test, y_pred)\n",
    "\n",
    "                print(\"Classifier Accuracy:\", accuracy)\n",
    "                print(\"Best Parameters:\", grid_search.best_params_)\n",
    "                best_params[classifier_name] = grid_search.best_params_\n",
    "    return best_params"
   ]
  },
  {
   "cell_type": "code",
   "execution_count": 83,
   "metadata": {},
   "outputs": [],
   "source": [
    "best_params_so_far = {\n",
    "    \"Logistic Regression\": {\n",
    "        \"C\": 10.0,\n",
    "        \"max_iter\": 1000,\n",
    "        \"penalty\": \"l1\",\n",
    "        \"solver\": \"liblinear\",\n",
    "    },\n",
    "    \"Decision Tree\": {\n",
    "        \"criterion\": \"entropy\",\n",
    "        \"max_depth\": 20,\n",
    "        \"min_samples_leaf\": 4,\n",
    "        \"min_samples_split\": 2,\n",
    "    },\n",
    "    \"Random Forest\": {\n",
    "        \"max_depth\": None,\n",
    "        \"min_samples_leaf\": 2,\n",
    "        \"min_samples_split\": 5,\n",
    "        \"n_estimators\": 300,\n",
    "    },\n",
    "    \"SVC\": {\"C\": 10.0, \"gamma\": \"scale\", \"kernel\": \"sigmoid\"},\n",
    "    \"Multi-Layer Perceptron\": {\n",
    "        \"activation\": \"identity\",\n",
    "        \"alpha\": 0.01,\n",
    "        \"early_stopping\": True,\n",
    "        \"hidden_layer_sizes\": (25, 25, 25),\n",
    "        \"max_iter\": 500,\n",
    "        \"n_iter_no_change\": 10,\n",
    "    },\n",
    "    \"XGBoost\": {\n",
    "        \"learning_rate\": 0.01,\n",
    "        \"max_depth\": 6,\n",
    "        \"n_estimators\": 200,\n",
    "        \"subsample\": 0.8,\n",
    "    },\n",
    "}"
   ]
  },
  {
   "cell_type": "code",
   "execution_count": 84,
   "metadata": {},
   "outputs": [],
   "source": [
    "# uncomment if changing parameters grids (re-tune all classifier models)\n",
    "# best_params = tune_classifiers(classifiers, param_grids, X_train, y_train, X_test, y_test)\n",
    "best_params = best_params_so_far"
   ]
  },
  {
   "cell_type": "markdown",
   "metadata": {},
   "source": [
    "## Evaluation"
   ]
  },
  {
   "cell_type": "code",
   "execution_count": 85,
   "metadata": {},
   "outputs": [],
   "source": [
    "classifiers_tuned = {\n",
    "    \"Naive Bayes\": MultinomialNB(),\n",
    "    \"Logistic Regression\": LogisticRegression(**best_params[\"Logistic Regression\"]),\n",
    "    \"Decision Tree\": DecisionTreeClassifier(**best_params[\"Decision Tree\"]),\n",
    "    \"Random Forest\": RandomForestClassifier(**best_params[\"Random Forest\"]),\n",
    "    \"SVC\": SVC(**best_params[\"SVC\"]),\n",
    "    \"Multi-Layer Perceptron\": MLPClassifier(**best_params[\"Multi-Layer Perceptron\"]),\n",
    "    \"XGBoost\": XGBClassifier(**best_params[\"XGBoost\"]),\n",
    "}"
   ]
  },
  {
   "cell_type": "code",
   "execution_count": 86,
   "metadata": {},
   "outputs": [],
   "source": [
    "evaluations = {\n",
    "    classifier_name: evaluate_classifier(classifier, X_train, y_train, X_test, y_test)\n",
    "    for classifier_name, classifier in classifiers_tuned.items()\n",
    "}"
   ]
  },
  {
   "cell_type": "code",
   "execution_count": 87,
   "metadata": {},
   "outputs": [
    {
     "data": {
      "image/png": "[encoded data removed]",
      "text/plain": [
       "<Figure size 1200x1000 with 4 Axes>"
      ]
     },
     "metadata": {},
     "output_type": "display_data"
    },
    {
     "name": "stdout",
     "output_type": "stream",
     "text": [
      "Classifier: Naive Bayes\n",
      "Accuracy: 0.53\n",
      "Precision: 0.51\n",
      "Recall: 0.88\n",
      "F1 Score: 0.65\n",
      "------------------------------\n",
      "Classifier: Logistic Regression\n",
      "Accuracy: 0.74\n",
      "Precision: 0.70\n",
      "Recall: 0.82\n",
      "F1 Score: 0.76\n",
      "------------------------------\n",
      "Classifier: Decision Tree\n",
      "Accuracy: 0.60\n",
      "Precision: 0.62\n",
      "Recall: 0.53\n",
      "F1 Score: 0.57\n",
      "------------------------------\n",
      "Classifier: Random Forest\n",
      "Accuracy: 0.66\n",
      "Precision: 0.62\n",
      "Recall: 0.82\n",
      "F1 Score: 0.71\n",
      "------------------------------\n",
      "Classifier: SVC\n",
      "Accuracy: 0.71\n",
      "Precision: 0.69\n",
      "Recall: 0.78\n",
      "F1 Score: 0.73\n",
      "------------------------------\n",
      "Classifier: Multi-Layer Perceptron\n",
      "Accuracy: 0.61\n",
      "Precision: 0.59\n",
      "Recall: 0.72\n",
      "F1 Score: 0.65\n",
      "------------------------------\n",
      "Classifier: XGBoost\n",
      "Accuracy: 0.69\n",
      "Precision: 0.65\n",
      "Recall: 0.80\n",
      "F1 Score: 0.72\n",
      "------------------------------\n"
     ]
    }
   ],
   "source": [
    "import matplotlib.pyplot as plt\n",
    "\n",
    "metrics_names = [\"Accuracy\", \"Precision\", \"Recall\", \"F1 Score\"]\n",
    "fig, axs = plt.subplots(2, 2, figsize=(12, 10))\n",
    "\n",
    "colors = [\"blue\", \"orange\", \"green\", \"red\", \"pink\", \"brown\", \"purple\"]\n",
    "\n",
    "for i, metric in enumerate(metrics_names):\n",
    "    row = i // 2\n",
    "    col = i % 2\n",
    "    scores = [evaluation[i] for evaluation in evaluations.values()]\n",
    "    axs[row, col].bar(classifiers.keys(), scores, color=colors)\n",
    "    axs[row, col].set_title(metric)\n",
    "    axs[row, col].set_ylabel(\"Score\")\n",
    "    axs[row, col].set_ylim([0, 1])\n",
    "    axs[row, col].tick_params(axis=\"x\", labelrotation=45, labelsize=\"small\")\n",
    "\n",
    "plt.tight_layout()\n",
    "plt.show()\n",
    "\n",
    "for classifier_name, metrics in evaluations.items():\n",
    "    print(f\"Classifier: {classifier_name}\")\n",
    "    print(f\"Accuracy: {metrics[0]:.2f}\")\n",
    "    print(f\"Precision: {metrics[1]:.2f}\")\n",
    "    print(f\"Recall: {metrics[2]:.2f}\")\n",
    "    print(f\"F1 Score: {metrics[3]:.2f}\")\n",
    "    print(\"-\" * 30)"
   ]
  },
  {
   "cell_type": "markdown",
   "metadata": {},
   "source": [
    "___\n",
    "\n",
    "# Using Lexicons\n",
    "\n",
    "We will use different general purpose lexicons, and leverage them to perform unsupervised sentiment analysis, and compare the results. Also, we will use a domain-specific [lexicon](https://sraf.nd.edu/loughranmcdonald-master-dictionary/).\n",
    "\n",
    "The best performing one, will be used to create an extra feature to add to our data, and verify if it improves the traiend classifier models accuracy."
   ]
  },
  {
   "cell_type": "markdown",
   "metadata": {},
   "source": [
    "## VADER Sentiment"
   ]
  },
  {
   "cell_type": "code",
   "execution_count": 88,
   "metadata": {},
   "outputs": [],
   "source": [
    "from vaderSentiment.vaderSentiment import SentimentIntensityAnalyzer\n",
    "analyzer = SentimentIntensityAnalyzer()"
   ]
  },
  {
   "cell_type": "markdown",
   "metadata": {},
   "source": [
    "Use full_article field, which is a composition of the 3 article fields without applying preprocessing techniques."
   ]
  },
  {
   "cell_type": "code",
   "execution_count": 89,
   "metadata": {},
   "outputs": [],
   "source": [
    "vader_pred = []\n",
    "for article in dataset[\"full_article\"]:\n",
    "    vader_pred.append(1 if analyzer.polarity_scores(article)['compound'] > 0 else 0)"
   ]
  },
  {
   "cell_type": "code",
   "execution_count": 90,
   "metadata": {},
   "outputs": [
    {
     "name": "stdout",
     "output_type": "stream",
     "text": [
      "Accuracy:  0.595\n",
      "Precision:  0.572972972972973\n",
      "Recall:  0.9814814814814815\n",
      "F1:  0.7235494880546075\n"
     ]
    }
   ],
   "source": [
    "print(\"Accuracy: \", accuracy_score(y, vader_pred))\n",
    "print(\"Precision: \", precision_score(y, vader_pred))\n",
    "print(\"Recall: \", recall_score(y, vader_pred))\n",
    "print(\"F1: \", f1_score(y, vader_pred))"
   ]
  },
  {
   "cell_type": "markdown",
   "metadata": {},
   "source": [
    "## Afinn Sentiment"
   ]
  },
  {
   "cell_type": "code",
   "execution_count": 91,
   "metadata": {},
   "outputs": [],
   "source": [
    "from afinn import Afinn\n",
    "\n",
    "afn = Afinn()"
   ]
  },
  {
   "cell_type": "code",
   "execution_count": 92,
   "metadata": {},
   "outputs": [],
   "source": [
    "scores = [afn.score(article) for article in dataset[\"full_article\"]]\n",
    "sentiment = [\n",
    "    \"positive\" if score >= 0 else \"negative\"\n",
    "    for score in scores\n",
    "]\n",
    "\n",
    "afinn_pred = []\n",
    "for article in dataset[\"full_article\"]:\n",
    "    afinn_pred.append(1 if afn.score(article) > 0 else 0)"
   ]
  },
  {
   "cell_type": "code",
   "execution_count": 93,
   "metadata": {},
   "outputs": [
    {
     "name": "stdout",
     "output_type": "stream",
     "text": [
      "Accuracy:  0.6025\n",
      "Precision:  0.5785123966942148\n",
      "Recall:  0.9722222222222222\n",
      "F1:  0.7253886010362695\n"
     ]
    }
   ],
   "source": [
    "print(\"Accuracy: \", accuracy_score(y, afinn_pred))\n",
    "print(\"Precision: \", precision_score(y, afinn_pred))\n",
    "print(\"Recall: \", recall_score(y, afinn_pred))\n",
    "print(\"F1: \", f1_score(y, afinn_pred))"
   ]
  },
  {
   "cell_type": "markdown",
   "metadata": {},
   "source": [
    "## SentiWordNet"
   ]
  },
  {
   "cell_type": "code",
   "execution_count": 94,
   "metadata": {},
   "outputs": [],
   "source": [
    "import nltk\n",
    "from nltk.corpus import wordnet as wn\n",
    "from nltk.corpus import sentiwordnet as swn\n",
    "from nltk.tokenize import word_tokenize\n",
    "\n",
    "# nltk.download(\"sentiwordnet\")\n",
    "# nltk.download(\"wordnet\")\n",
    "# nltk.download(\"averaged_perceptron_tagger\")\n",
    "\n",
    "\n",
    "def get_wordnet_pos(treebank_tag):\n",
    "    if treebank_tag.startswith(\"J\"):\n",
    "        return wn.ADJ\n",
    "    elif treebank_tag.startswith(\"V\"):\n",
    "        return wn.VERB\n",
    "    elif treebank_tag.startswith(\"N\"):\n",
    "        return wn.NOUN\n",
    "    elif treebank_tag.startswith(\"R\"):\n",
    "        return wn.ADV\n",
    "    else:\n",
    "        return None\n",
    "\n",
    "\n",
    "def calculate_sentiment_score(text):\n",
    "    sentiment_positive = 0.0\n",
    "    sentiment_negative = 0.0\n",
    "    article_count = 0\n",
    "\n",
    "    tokens = word_tokenize(text)\n",
    "    pos_tags = nltk.pos_tag(tokens)\n",
    "\n",
    "    for word, pos_tag in pos_tags:\n",
    "        wordnet_pos = get_wordnet_pos(pos_tag)\n",
    "        if wordnet_pos:\n",
    "            synsets = wn.synsets(word, pos=wordnet_pos)\n",
    "            if synsets:\n",
    "                chosen_synset = synsets[0]\n",
    "                senti_synset = swn.senti_synset(chosen_synset.name())\n",
    "                sentiment_positive += senti_synset.pos_score()\n",
    "                sentiment_negative += senti_synset.neg_score()\n",
    "                article_count += 1\n",
    "\n",
    "    if article_count > 0:\n",
    "        final_sentiment = 1 if sentiment_positive > sentiment_negative else 0\n",
    "    else:\n",
    "        final_sentiment = None\n",
    "\n",
    "    return final_sentiment\n",
    "\n",
    "\n",
    "sentiwordnet_pred = []\n",
    "for article in dataset[\"full_article\"]:\n",
    "    sentiment = calculate_sentiment_score(article)\n",
    "    sentiwordnet_pred.append(sentiment)"
   ]
  },
  {
   "cell_type": "code",
   "execution_count": 95,
   "metadata": {},
   "outputs": [
    {
     "name": "stdout",
     "output_type": "stream",
     "text": [
      "Accuracy:  0.6225\n",
      "Precision:  0.6101694915254238\n",
      "Recall:  0.8333333333333334\n",
      "F1:  0.7045009784735812\n"
     ]
    }
   ],
   "source": [
    "print(\"Accuracy: \", accuracy_score(y, sentiwordnet_pred))\n",
    "print(\"Precision: \", precision_score(y, sentiwordnet_pred))\n",
    "print(\"Recall: \", recall_score(y, sentiwordnet_pred))\n",
    "print(\"F1: \", f1_score(y, sentiwordnet_pred))"
   ]
  },
  {
   "cell_type": "markdown",
   "metadata": {},
   "source": [
    "## Loughran McDonald Master Dictionary\n",
    "\n",
    "A domain-specific lexicon, altered to better fit the problem at hand (converted to a binary classification problem. Explained in [prepare_lexicon](data/prepare_lexicon.ipynb) notebook)."
   ]
  },
  {
   "cell_type": "code",
   "execution_count": 96,
   "metadata": {},
   "outputs": [
    {
     "data": {
      "text/html": [
       "<div>\n",
       "<style scoped>\n",
       "    .dataframe tbody tr th:only-of-type {\n",
       "        vertical-align: middle;\n",
       "    }\n",
       "\n",
       "    .dataframe tbody tr th {\n",
       "        vertical-align: top;\n",
       "    }\n",
       "\n",
       "    .dataframe thead th {\n",
       "        text-align: right;\n",
       "    }\n",
       "</style>\n",
       "<table border=\"1\" class=\"dataframe\">\n",
       "  <thead>\n",
       "    <tr style=\"text-align: right;\">\n",
       "      <th></th>\n",
       "      <th>Word</th>\n",
       "      <th>Sentiment</th>\n",
       "    </tr>\n",
       "  </thead>\n",
       "  <tbody>\n",
       "    <tr>\n",
       "      <th>0</th>\n",
       "      <td>abandon</td>\n",
       "      <td>0</td>\n",
       "    </tr>\n",
       "    <tr>\n",
       "      <th>1</th>\n",
       "      <td>abandoned</td>\n",
       "      <td>0</td>\n",
       "    </tr>\n",
       "    <tr>\n",
       "      <th>2</th>\n",
       "      <td>abandoning</td>\n",
       "      <td>0</td>\n",
       "    </tr>\n",
       "    <tr>\n",
       "      <th>3</th>\n",
       "      <td>abandonment</td>\n",
       "      <td>0</td>\n",
       "    </tr>\n",
       "    <tr>\n",
       "      <th>4</th>\n",
       "      <td>abandonments</td>\n",
       "      <td>0</td>\n",
       "    </tr>\n",
       "  </tbody>\n",
       "</table>\n",
       "</div>"
      ],
      "text/plain": [
       "           Word  Sentiment\n",
       "0       abandon          0\n",
       "1     abandoned          0\n",
       "2    abandoning          0\n",
       "3   abandonment          0\n",
       "4  abandonments          0"
      ]
     },
     "execution_count": 96,
     "metadata": {},
     "output_type": "execute_result"
    }
   ],
   "source": [
    "loughran_mcdonald = pd.read_csv(\"data/loughran-mcdonald-lexicon.csv\")\n",
    "loughran_mcdonald.head()"
   ]
  },
  {
   "cell_type": "code",
   "execution_count": 97,
   "metadata": {},
   "outputs": [],
   "source": [
    "def calculate_sentiment_score(article, lexicon):\n",
    "    words = article.lower().split()\n",
    "    positive_score = 0\n",
    "    negative_score = 0\n",
    "    for word in words:\n",
    "        if word in lexicon[\"Word\"].values:\n",
    "            sentiment = lexicon.loc[lexicon[\"Word\"] == word, \"Sentiment\"].values[0]\n",
    "            if sentiment == 1:\n",
    "                positive_score += 1\n",
    "            elif sentiment == 0:\n",
    "                negative_score += 1\n",
    "    if positive_score > negative_score:\n",
    "        return 1 \n",
    "    else:\n",
    "        return 0  "
   ]
  },
  {
   "cell_type": "code",
   "execution_count": 98,
   "metadata": {},
   "outputs": [],
   "source": [
    "loughran_mcdonald_preds = dataset[\"full_article\"].apply(\n",
    "    lambda x: calculate_sentiment_score(x, loughran_mcdonald)\n",
    ")"
   ]
  },
  {
   "cell_type": "code",
   "execution_count": 99,
   "metadata": {},
   "outputs": [
    {
     "name": "stdout",
     "output_type": "stream",
     "text": [
      "Accuracy:  0.5475\n",
      "Precision:  0.7464788732394366\n",
      "Recall:  0.24537037037037038\n",
      "F1:  0.3693379790940767\n"
     ]
    }
   ],
   "source": [
    "print(\"Accuracy: \", accuracy_score(y, loughran_mcdonald_preds))\n",
    "print(\"Precision: \", precision_score(y, loughran_mcdonald_preds))\n",
    "print(\"Recall: \", recall_score(y, loughran_mcdonald_preds))\n",
    "print(\"F1: \", f1_score(y, loughran_mcdonald_preds))"
   ]
  },
  {
   "cell_type": "markdown",
   "metadata": {},
   "source": [
    "Even tought this lexicon was domain specific, it probably wasn't comprehensive enough, or it didn't contain the key terms deemed necessary to accuratly predict sentiment.\n",
    "\n",
    "___"
   ]
  },
  {
   "cell_type": "markdown",
   "metadata": {},
   "source": [
    "As we can see, SentiWordNet was the best in classifying sentiment, lets use it to add labels to the dataset, and re-apply our classifier"
   ]
  },
  {
   "cell_type": "code",
   "execution_count": 100,
   "metadata": {},
   "outputs": [],
   "source": [
    "dataset[\"sentiwordnet_pred\"] = sentiwordnet_pred"
   ]
  },
  {
   "cell_type": "code",
   "execution_count": 101,
   "metadata": {},
   "outputs": [],
   "source": [
    "sentiword_preds = np.array(dataset[\"sentiwordnet_pred\"]).reshape(-1, 1)"
   ]
  },
  {
   "cell_type": "markdown",
   "metadata": {},
   "source": [
    "Lets add the predictions a a new feature (column)"
   ]
  },
  {
   "cell_type": "code",
   "execution_count": 102,
   "metadata": {},
   "outputs": [],
   "source": [
    "X2 = X.copy()\n",
    "X2 = np.hstack((X2, sentiword_preds))"
   ]
  },
  {
   "cell_type": "code",
   "execution_count": 103,
   "metadata": {},
   "outputs": [
    {
     "name": "stdout",
     "output_type": "stream",
     "text": [
      "(320, 58852) (320,)\n",
      "(80, 58852) (80,)\n",
      "\n",
      "Label distribution in the training set:\n",
      "Final Status\n",
      "1    176\n",
      "0    144\n",
      "Name: count, dtype: int64\n",
      "\n",
      "Label distribution in the test set:\n",
      "Final Status\n",
      "0    40\n",
      "1    40\n",
      "Name: count, dtype: int64\n"
     ]
    }
   ],
   "source": [
    "X_train2, X_test2, y_train2, y_test2 = train_test_split(\n",
    "    X2, y, test_size=0.2, random_state=42\n",
    ")\n",
    "\n",
    "print(X_train2.shape, y_train2.shape)\n",
    "print(X_test2.shape, y_test2.shape)\n",
    "\n",
    "print(\"\\nLabel distribution in the training set:\")\n",
    "print(y_train2.value_counts())\n",
    "\n",
    "print(\"\\nLabel distribution in the test set:\")\n",
    "print(y_test2.value_counts())"
   ]
  },
  {
   "cell_type": "code",
   "execution_count": 104,
   "metadata": {},
   "outputs": [
    {
     "data": {
      "image/png": "[encoded data removed]",
      "text/plain": [
       "<Figure size 1200x1000 with 4 Axes>"
      ]
     },
     "metadata": {},
     "output_type": "display_data"
    },
    {
     "name": "stdout",
     "output_type": "stream",
     "text": [
      "Classifier: Naive Bayes\n",
      "Accuracy: 0.54\n",
      "Precision: 0.52\n",
      "Recall: 0.93\n",
      "F1 Score: 0.67\n",
      "------------------------------\n",
      "Classifier: Logistic Regression\n",
      "Accuracy: 0.76\n",
      "Precision: 0.73\n",
      "Recall: 0.82\n",
      "F1 Score: 0.78\n",
      "------------------------------\n",
      "Classifier: Decision Tree\n",
      "Accuracy: 0.65\n",
      "Precision: 0.69\n",
      "Recall: 0.55\n",
      "F1 Score: 0.61\n",
      "------------------------------\n",
      "Classifier: Random Forest\n",
      "Accuracy: 0.65\n",
      "Precision: 0.62\n",
      "Recall: 0.80\n",
      "F1 Score: 0.70\n",
      "------------------------------\n",
      "Classifier: SVC\n",
      "Accuracy: 0.71\n",
      "Precision: 0.67\n",
      "Recall: 0.85\n",
      "F1 Score: 0.75\n",
      "------------------------------\n",
      "Classifier: Multi-Layer Perceptron\n",
      "Accuracy: 0.55\n",
      "Precision: 0.53\n",
      "Recall: 0.97\n",
      "F1 Score: 0.68\n",
      "------------------------------\n",
      "Classifier: XGBoost\n",
      "Accuracy: 0.69\n",
      "Precision: 0.65\n",
      "Recall: 0.80\n",
      "F1 Score: 0.72\n",
      "------------------------------\n"
     ]
    }
   ],
   "source": [
    "evaluations2 = {\n",
    "    classifier_name: evaluate_classifier(classifier, X_train2, y_train2, X_test2, y_test2)\n",
    "    for classifier_name, classifier in classifiers_tuned.items()\n",
    "}\n",
    "metrics_names = [\"Accuracy\", \"Precision\", \"Recall\", \"F1 Score\"]\n",
    "fig, axs = plt.subplots(2, 2, figsize=(12, 10))\n",
    "\n",
    "colors = [\"blue\", \"orange\", \"green\", \"red\", \"pink\", \"brown\", \"purple\"]\n",
    "\n",
    "for i, metric in enumerate(metrics_names):\n",
    "    row = i // 2\n",
    "    col = i % 2\n",
    "    scores = [evaluation[i] for evaluation in evaluations2.values()]\n",
    "    axs[row, col].bar(classifiers.keys(), scores, color=colors)\n",
    "    axs[row, col].set_title(metric)\n",
    "    axs[row, col].set_ylabel(\"Score\")\n",
    "    axs[row, col].set_ylim([0, 1])\n",
    "    axs[row, col].tick_params(axis=\"x\", labelrotation=45, labelsize=\"small\")\n",
    "\n",
    "plt.tight_layout()\n",
    "plt.show()\n",
    "\n",
    "for classifier_name, metrics in evaluations2.items():\n",
    "    print(f\"Classifier: {classifier_name}\")\n",
    "    print(f\"Accuracy: {metrics[0]:.2f}\")\n",
    "    print(f\"Precision: {metrics[1]:.2f}\")\n",
    "    print(f\"Recall: {metrics[2]:.2f}\")\n",
    "    print(f\"F1 Score: {metrics[3]:.2f}\")\n",
    "    print(\"-\" * 30)"
   ]
  },
  {
   "cell_type": "markdown",
   "metadata": {},
   "source": [
    "___\n",
    "\n",
    "## Final Evaluation"
   ]
  },
  {
   "cell_type": "code",
   "execution_count": 105,
   "metadata": {},
   "outputs": [
    {
     "name": "stdout",
     "output_type": "stream",
     "text": [
      "Classifier Accuracy    Base                      +Lexicon Features        \n",
      "----------------------------------------------------------------------------------\n",
      "Decision Tree          0.60            0.65\n",
      "Logistic Regression    0.74            0.76\n",
      "Multi-Layer Perceptron 0.61            0.55\n",
      "Naive Bayes            0.53            0.54\n",
      "Random Forest          0.66            0.65\n",
      "SVC                    0.71            0.71\n",
      "XGBoost                0.69            0.69\n"
     ]
    }
   ],
   "source": [
    "max_name_length = max(len(name) for name in evaluations.keys() | evaluations2.keys())\n",
    "\n",
    "print(\n",
    "    f\"{'Classifier Accuracy':<{max_name_length}} {'Base':<25} {'+Lexicon Features':<25}\"\n",
    ")\n",
    "print(\"-\" * (max_name_length + 60)) \n",
    "\n",
    "for classifier_name in sorted(set(evaluations.keys()) | set(evaluations2.keys())):\n",
    "    accuracy_evaluations = evaluations.get(classifier_name, (0,))[0]\n",
    "    accuracy_evaluations2 = evaluations2.get(classifier_name, (0,))[0]\n",
    "    print(\n",
    "        f\"{classifier_name:<{max_name_length}} {accuracy_evaluations:.2f} {' ' * 10} {accuracy_evaluations2:.2f}\"\n",
    "    )"
   ]
  },
  {
   "cell_type": "markdown",
   "metadata": {},
   "source": [
    "As we can see, using a Lexicon's sentiment predictions improved most of our classifiers, improving Logistic Regression even further!"
   ]
  }
 ],
 "metadata": {
  "kernelspec": {
   "display_name": "Python 3 (ipykernel)",
   "language": "python",
   "name": "python3"
  },
  "language_info": {
   "codemirror_mode": {
    "name": "ipython",
    "version": 3
   },
   "file_extension": ".py",
   "mimetype": "text/x-python",
   "name": "python",
   "nbconvert_exporter": "python",
   "pygments_lexer": "ipython3",
   "version": "3.12.1"
  }
 },
 "nbformat": 4,
 "nbformat_minor": 4
}
