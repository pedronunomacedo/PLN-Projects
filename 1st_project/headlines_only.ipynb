{
 "cells": [
  {
   "cell_type": "markdown",
   "metadata": {},
   "source": [
    "# Headlines Only\n",
    "\n",
    "As an experiment, we are going to showcase a variant of the project base, where only one field of the dataset will be used, to verify if significant sentiment information is contained in it.\n",
    "\n",
    "If the performance is similar to the classifiers using the full dataset, then the field´s information density is high!"
   ]
  },
  {
   "cell_type": "markdown",
   "metadata": {},
   "source": [
    "## Data Load and Exploration"
   ]
  },
  {
   "cell_type": "code",
   "execution_count": 1,
   "metadata": {},
   "outputs": [
    {
     "data": {
      "text/html": [
       "<div>\n",
       "<style scoped>\n",
       "    .dataframe tbody tr th:only-of-type {\n",
       "        vertical-align: middle;\n",
       "    }\n",
       "\n",
       "    .dataframe tbody tr th {\n",
       "        vertical-align: top;\n",
       "    }\n",
       "\n",
       "    .dataframe thead th {\n",
       "        text-align: right;\n",
       "    }\n",
       "</style>\n",
       "<table border=\"1\" class=\"dataframe\">\n",
       "  <thead>\n",
       "    <tr style=\"text-align: right;\">\n",
       "      <th></th>\n",
       "      <th>Date_published</th>\n",
       "      <th>Headline</th>\n",
       "      <th>Synopsis</th>\n",
       "      <th>Full_text</th>\n",
       "      <th>Final Status</th>\n",
       "    </tr>\n",
       "  </thead>\n",
       "  <tbody>\n",
       "    <tr>\n",
       "      <th>0</th>\n",
       "      <td>2022-06-21</td>\n",
       "      <td>Banks holding on to subsidy share, say payment...</td>\n",
       "      <td>The companies have written to the National Pay...</td>\n",
       "      <td>ReutersPayments companies and banks are at log...</td>\n",
       "      <td>Negative</td>\n",
       "    </tr>\n",
       "    <tr>\n",
       "      <th>1</th>\n",
       "      <td>2022-04-19</td>\n",
       "      <td>Digitally ready Bank of Baroda aims to click o...</td>\n",
       "      <td>At present, 50% of the bank's retail loans are...</td>\n",
       "      <td>AgenciesThe bank presently has 20 million acti...</td>\n",
       "      <td>Positive</td>\n",
       "    </tr>\n",
       "    <tr>\n",
       "      <th>2</th>\n",
       "      <td>2022-05-27</td>\n",
       "      <td>Karnataka attracted investment commitment of R...</td>\n",
       "      <td>Karnataka is at the forefront in attracting in...</td>\n",
       "      <td>PTIKarnataka Chief Minister Basavaraj Bommai.K...</td>\n",
       "      <td>Positive</td>\n",
       "    </tr>\n",
       "    <tr>\n",
       "      <th>3</th>\n",
       "      <td>2022-04-06</td>\n",
       "      <td>Splitting of provident fund accounts may be de...</td>\n",
       "      <td>The EPFO is likely to split accounts only at t...</td>\n",
       "      <td>Getty ImagesThe budget for FY22 had imposed in...</td>\n",
       "      <td>Negative</td>\n",
       "    </tr>\n",
       "    <tr>\n",
       "      <th>4</th>\n",
       "      <td>2022-06-14</td>\n",
       "      <td>Irdai weighs proposal to privatise Insurance I...</td>\n",
       "      <td>Set up in 2009 as an advisory body, IIB collec...</td>\n",
       "      <td>AgenciesThere is a view in the insurance indus...</td>\n",
       "      <td>Positive</td>\n",
       "    </tr>\n",
       "  </tbody>\n",
       "</table>\n",
       "</div>"
      ],
      "text/plain": [
       "  Date_published                                           Headline  \\\n",
       "0     2022-06-21  Banks holding on to subsidy share, say payment...   \n",
       "1     2022-04-19  Digitally ready Bank of Baroda aims to click o...   \n",
       "2     2022-05-27  Karnataka attracted investment commitment of R...   \n",
       "3     2022-04-06  Splitting of provident fund accounts may be de...   \n",
       "4     2022-06-14  Irdai weighs proposal to privatise Insurance I...   \n",
       "\n",
       "                                            Synopsis  \\\n",
       "0  The companies have written to the National Pay...   \n",
       "1  At present, 50% of the bank's retail loans are...   \n",
       "2  Karnataka is at the forefront in attracting in...   \n",
       "3  The EPFO is likely to split accounts only at t...   \n",
       "4  Set up in 2009 as an advisory body, IIB collec...   \n",
       "\n",
       "                                           Full_text Final Status  \n",
       "0  ReutersPayments companies and banks are at log...     Negative  \n",
       "1  AgenciesThe bank presently has 20 million acti...     Positive  \n",
       "2  PTIKarnataka Chief Minister Basavaraj Bommai.K...     Positive  \n",
       "3  Getty ImagesThe budget for FY22 had imposed in...     Negative  \n",
       "4  AgenciesThere is a view in the insurance indus...     Positive  "
      ]
     },
     "execution_count": 1,
     "metadata": {},
     "output_type": "execute_result"
    }
   ],
   "source": [
    "import pandas as pd\n",
    "import numpy as np\n",
    "\n",
    "dataset = pd.read_csv(\"data/dataset.csv\", encoding=\"utf-8\")\n",
    "\n",
    "dataset.head()"
   ]
  },
  {
   "cell_type": "markdown",
   "metadata": {},
   "source": [
    "## Data Cleaning"
   ]
  },
  {
   "cell_type": "markdown",
   "metadata": {},
   "source": [
    "Let's quickly do all the needed operations"
   ]
  },
  {
   "cell_type": "code",
   "execution_count": 2,
   "metadata": {},
   "outputs": [],
   "source": [
    "# Convert to binary\n",
    "dataset.loc[97, \"Final Status\"] = \"Positive\"\n",
    "dataset[\"Final Status\"] = dataset[\"Final Status\"].map({\"Positive\": 1, \"Negative\": 0})"
   ]
  },
  {
   "cell_type": "code",
   "execution_count": 3,
   "metadata": {},
   "outputs": [
    {
     "data": {
      "text/plain": [
       "Index([56], dtype='int64')"
      ]
     },
     "execution_count": 3,
     "metadata": {},
     "output_type": "execute_result"
    }
   ],
   "source": [
    "# Check  and clean empty Synopsis\n",
    "dataset[dataset[\"Synopsis\"].isna()].index"
   ]
  },
  {
   "cell_type": "code",
   "execution_count": 4,
   "metadata": {},
   "outputs": [],
   "source": [
    "dataset.loc[56, \"Synopsis\"] = \" \""
   ]
  },
  {
   "cell_type": "markdown",
   "metadata": {},
   "source": [
    "## Preprocessing Text"
   ]
  },
  {
   "cell_type": "code",
   "execution_count": 5,
   "metadata": {},
   "outputs": [],
   "source": [
    "import re, string\n",
    "import nltk\n",
    "from nltk.tokenize import word_tokenize\n",
    "from nltk.corpus import stopwords\n",
    "from nltk.stem import WordNetLemmatizer\n",
    "from nltk.stem.porter import PorterStemmer\n",
    "\n",
    "\n",
    "lemmatizer = WordNetLemmatizer()\n",
    "ps = PorterStemmer()"
   ]
  },
  {
   "cell_type": "code",
   "execution_count": 6,
   "metadata": {},
   "outputs": [],
   "source": [
    "#replace contractions\n",
    "def decontracted(phrase):\n",
    "    phrase = re.sub(r\"\\'t\", \"not\", phrase)\n",
    "    phrase = re.sub(r\"\\'re\", \" are\", phrase)\n",
    "    phrase = re.sub(r\"\\'s\", \" is\", phrase)\n",
    "    phrase = re.sub(r\"\\'d\", \" would\", phrase)\n",
    "    phrase = re.sub(r\"\\'ll\", \" will\", phrase)\n",
    "    phrase = re.sub(r\"\\'ve\", \" have\", phrase)\n",
    "    phrase = re.sub(r\"\\'m\", \" am\", phrase)\n",
    "    return phrase"
   ]
  },
  {
   "cell_type": "code",
   "execution_count": 7,
   "metadata": {},
   "outputs": [],
   "source": [
    "def preprocess_text(text):\n",
    "    text = decontracted(text)\n",
    "    text = re.sub(\"[^a-zA-Z]\", \" \", str(text))  # alpha only\n",
    "    text = re.sub(r\"\\s+[a-zA-Z]\\s+\", \" \", text)  # Remove single characters\n",
    "    text = re.sub(r\"\\s+\", \" \", text)  # Remove multiple spaces\n",
    "    tokens = word_tokenize(text.lower())\n",
    "    tokens = [ps.stem(token) for token in tokens]\n",
    "    return \" \".join(tokens)"
   ]
  },
  {
   "cell_type": "code",
   "execution_count": 8,
   "metadata": {},
   "outputs": [],
   "source": [
    "corpus = []\n",
    "dataset[\"processed_article\"] = (\n",
    "    dataset[\"Headline\"] + \" \" + dataset[\"Synopsis\"] + \" \" + dataset[\"Full_text\"]\n",
    ")\n",
    "\n",
    "# for future use in Lexicons\n",
    "dataset[\"full_article\"] = (\n",
    "    dataset[\"Headline\"] + \" \" + dataset[\"Synopsis\"] + \" \" + dataset[\"Full_text\"]\n",
    ")\n",
    "\n",
    "# use just one field\n",
    "\n",
    "for i in range(len(dataset[\"Headline\"])):\n",
    "    dataset.loc[i, \"processed_headline\"] = preprocess_text(\n",
    "        dataset[\"Headline\"][i]\n",
    "    )\n",
    "    corpus.append(dataset[\"processed_headline\"][i])"
   ]
  },
  {
   "cell_type": "markdown",
   "metadata": {},
   "source": [
    "## Vector Representation"
   ]
  },
  {
   "cell_type": "code",
   "execution_count": 9,
   "metadata": {},
   "outputs": [
    {
     "name": "stdout",
     "output_type": "stream",
     "text": [
      "(400, 3096)\n"
     ]
    }
   ],
   "source": [
    "from sklearn.feature_extraction.text import CountVectorizer, TfidfVectorizer\n",
    "\n",
    "vectorizer = TfidfVectorizer(ngram_range=(1, 2))\n",
    "X = vectorizer.fit_transform(corpus).toarray()\n",
    "\n",
    "print(X.shape)"
   ]
  },
  {
   "cell_type": "code",
   "execution_count": 10,
   "metadata": {},
   "outputs": [
    {
     "name": "stdout",
     "output_type": "stream",
     "text": [
      "(400, 3096) (400,)\n"
     ]
    }
   ],
   "source": [
    "y = dataset['Final Status']\n",
    "\n",
    "print(X.shape, y.shape)"
   ]
  },
  {
   "cell_type": "markdown",
   "metadata": {},
   "source": [
    "## Train-Test Split"
   ]
  },
  {
   "cell_type": "code",
   "execution_count": 11,
   "metadata": {},
   "outputs": [
    {
     "name": "stdout",
     "output_type": "stream",
     "text": [
      "(320, 3096) (320,)\n",
      "(80, 3096) (80,)\n",
      "\n",
      "Label distribution in the training set:\n",
      "Final Status\n",
      "1    176\n",
      "0    144\n",
      "Name: count, dtype: int64\n",
      "\n",
      "Label distribution in the test set:\n",
      "Final Status\n",
      "0    40\n",
      "1    40\n",
      "Name: count, dtype: int64\n"
     ]
    }
   ],
   "source": [
    "from sklearn.model_selection import (\n",
    "    train_test_split,\n",
    "    ParameterGrid,\n",
    "    GridSearchCV,\n",
    ")\n",
    "\n",
    "X_train, X_test, y_train, y_test = train_test_split(X, y, test_size = 0.2,random_state=42)\n",
    "\n",
    "print(X_train.shape, y_train.shape)\n",
    "print(X_test.shape, y_test.shape)\n",
    "\n",
    "print(\"\\nLabel distribution in the training set:\")\n",
    "print(y_train.value_counts())\n",
    "\n",
    "print(\"\\nLabel distribution in the test set:\")\n",
    "print(y_test.value_counts())"
   ]
  },
  {
   "cell_type": "markdown",
   "metadata": {},
   "source": [
    "## Modeling (and Tuning) Classifiers"
   ]
  },
  {
   "cell_type": "code",
   "execution_count": 12,
   "metadata": {},
   "outputs": [],
   "source": [
    "from sklearn.pipeline import Pipeline\n",
    "from sklearn.metrics import accuracy_score, precision_score, recall_score, f1_score\n",
    "from sklearn.ensemble import RandomForestClassifier\n",
    "from sklearn.linear_model import LogisticRegression\n",
    "from sklearn.naive_bayes import MultinomialNB\n",
    "from sklearn.tree import DecisionTreeClassifier\n",
    "from sklearn.svm import SVC\n",
    "from sklearn.neural_network import MLPClassifier\n",
    "from xgboost import XGBClassifier"
   ]
  },
  {
   "cell_type": "code",
   "execution_count": 13,
   "metadata": {},
   "outputs": [],
   "source": [
    "classifiers = {\n",
    "    \"Naive Bayes\": MultinomialNB(),\n",
    "    \"Logistic Regression\": LogisticRegression(),\n",
    "    \"Decision Tree\": DecisionTreeClassifier(),\n",
    "    \"Random Forest\": RandomForestClassifier(),\n",
    "    \"SVC\": SVC(),\n",
    "    \"Multi-Layer Perceptron\": MLPClassifier(),\n",
    "    \"XGBoost\": XGBClassifier(),\n",
    "}"
   ]
  },
  {
   "cell_type": "code",
   "execution_count": 14,
   "metadata": {},
   "outputs": [],
   "source": [
    "def evaluate_classifier(classifier, X_train, y_train, X_test, y_test):\n",
    "    classifier.fit(X_train, y_train)\n",
    "    y_pred = classifier.predict(X_test)\n",
    "    accuracy = accuracy_score(y_test, y_pred)\n",
    "    precision = precision_score(y_test, y_pred)\n",
    "    recall = recall_score(y_test, y_pred)\n",
    "    f1 = f1_score(y_test, y_pred)\n",
    "    return accuracy, precision, recall, f1"
   ]
  },
  {
   "cell_type": "code",
   "execution_count": 15,
   "metadata": {},
   "outputs": [],
   "source": [
    "# Let's use the already tuned best parameters\n",
    "\n",
    "best_params_so_far = {\n",
    "    \"Logistic Regression\": {\n",
    "        \"C\": 10.0,\n",
    "        \"max_iter\": 1000,\n",
    "        \"penalty\": \"l1\",\n",
    "        \"solver\": \"liblinear\",\n",
    "    },\n",
    "    \"Decision Tree\": {\n",
    "        \"criterion\": \"entropy\",\n",
    "        \"max_depth\": 20,\n",
    "        \"min_samples_leaf\": 4,\n",
    "        \"min_samples_split\": 2,\n",
    "    },\n",
    "    \"Random Forest\": {\n",
    "        \"max_depth\": None,\n",
    "        \"min_samples_leaf\": 2,\n",
    "        \"min_samples_split\": 5,\n",
    "        \"n_estimators\": 300,\n",
    "    },\n",
    "    \"SVC\": {\"C\": 10.0, \"gamma\": \"scale\", \"kernel\": \"sigmoid\"},\n",
    "    \"Multi-Layer Perceptron\": {\n",
    "        \"activation\": \"identity\",\n",
    "        \"alpha\": 0.01,\n",
    "        \"early_stopping\": True,\n",
    "        \"hidden_layer_sizes\": (25, 25, 25),\n",
    "        \"max_iter\": 500,\n",
    "        \"n_iter_no_change\": 10,\n",
    "    },\n",
    "    \"XGBoost\": {\n",
    "        \"learning_rate\": 0.01,\n",
    "        \"max_depth\": 6,\n",
    "        \"n_estimators\": 200,\n",
    "        \"subsample\": 0.8,\n",
    "    },\n",
    "}"
   ]
  },
  {
   "cell_type": "code",
   "execution_count": 16,
   "metadata": {},
   "outputs": [],
   "source": [
    "best_params = best_params_so_far"
   ]
  },
  {
   "cell_type": "markdown",
   "metadata": {},
   "source": [
    "## Evaluation"
   ]
  },
  {
   "cell_type": "code",
   "execution_count": 17,
   "metadata": {},
   "outputs": [],
   "source": [
    "classifiers_tuned = {\n",
    "    \"Naive Bayes\": MultinomialNB(),\n",
    "    \"Logistic Regression\": LogisticRegression(**best_params[\"Logistic Regression\"]),\n",
    "    \"Decision Tree\": DecisionTreeClassifier(**best_params[\"Decision Tree\"]),\n",
    "    \"Random Forest\": RandomForestClassifier(**best_params[\"Random Forest\"]),\n",
    "    \"SVC\": SVC(**best_params[\"SVC\"]),\n",
    "    \"Multi-Layer Perceptron\": MLPClassifier(**best_params[\"Multi-Layer Perceptron\"]),\n",
    "    \"XGBoost\": XGBClassifier(**best_params[\"XGBoost\"]),\n",
    "}"
   ]
  },
  {
   "cell_type": "code",
   "execution_count": 18,
   "metadata": {},
   "outputs": [],
   "source": [
    "evaluations = {\n",
    "    classifier_name: evaluate_classifier(classifier, X_train, y_train, X_test, y_test)\n",
    "    for classifier_name, classifier in classifiers_tuned.items()\n",
    "}"
   ]
  },
  {
   "cell_type": "code",
   "execution_count": 19,
   "metadata": {},
   "outputs": [
    {
     "data": {
      "image/png": "[encoded data removed]",
      "text/plain": [
       "<Figure size 1200x1000 with 4 Axes>"
      ]
     },
     "metadata": {},
     "output_type": "display_data"
    },
    {
     "name": "stdout",
     "output_type": "stream",
     "text": [
      "Classifier: Naive Bayes\n",
      "Accuracy: 0.68\n",
      "Precision: 0.65\n",
      "Recall: 0.78\n",
      "F1 Score: 0.70\n",
      "------------------------------\n",
      "Classifier: Logistic Regression\n",
      "Accuracy: 0.71\n",
      "Precision: 0.67\n",
      "Recall: 0.82\n",
      "F1 Score: 0.74\n",
      "------------------------------\n",
      "Classifier: Decision Tree\n",
      "Accuracy: 0.59\n",
      "Precision: 0.57\n",
      "Recall: 0.68\n",
      "F1 Score: 0.62\n",
      "------------------------------\n",
      "Classifier: Random Forest\n",
      "Accuracy: 0.68\n",
      "Precision: 0.63\n",
      "Recall: 0.82\n",
      "F1 Score: 0.72\n",
      "------------------------------\n",
      "Classifier: SVC\n",
      "Accuracy: 0.68\n",
      "Precision: 0.65\n",
      "Recall: 0.78\n",
      "F1 Score: 0.70\n",
      "------------------------------\n",
      "Classifier: Multi-Layer Perceptron\n",
      "Accuracy: 0.68\n",
      "Precision: 0.65\n",
      "Recall: 0.78\n",
      "F1 Score: 0.70\n",
      "------------------------------\n",
      "Classifier: XGBoost\n",
      "Accuracy: 0.66\n",
      "Precision: 0.62\n",
      "Recall: 0.82\n",
      "F1 Score: 0.71\n",
      "------------------------------\n"
     ]
    }
   ],
   "source": [
    "import matplotlib.pyplot as plt\n",
    "\n",
    "metrics_names = [\"Accuracy\", \"Precision\", \"Recall\", \"F1 Score\"]\n",
    "fig, axs = plt.subplots(2, 2, figsize=(12, 10))\n",
    "\n",
    "colors = [\"blue\", \"orange\", \"green\", \"red\", \"pink\", \"brown\", \"purple\"]\n",
    "\n",
    "for i, metric in enumerate(metrics_names):\n",
    "    row = i // 2\n",
    "    col = i % 2\n",
    "    scores = [evaluation[i] for evaluation in evaluations.values()]\n",
    "    axs[row, col].bar(classifiers.keys(), scores, color=colors)\n",
    "    axs[row, col].set_title(metric)\n",
    "    axs[row, col].set_ylabel(\"Score\")\n",
    "    axs[row, col].set_ylim([0, 1])\n",
    "    axs[row, col].tick_params(axis=\"x\", labelrotation=45, labelsize=\"small\")\n",
    "\n",
    "plt.tight_layout()\n",
    "plt.show()\n",
    "\n",
    "for classifier_name, metrics in evaluations.items():\n",
    "    print(f\"Classifier: {classifier_name}\")\n",
    "    print(f\"Accuracy: {metrics[0]:.2f}\")\n",
    "    print(f\"Precision: {metrics[1]:.2f}\")\n",
    "    print(f\"Recall: {metrics[2]:.2f}\")\n",
    "    print(f\"F1 Score: {metrics[3]:.2f}\")\n",
    "    print(\"-\" * 30)"
   ]
  },
  {
   "cell_type": "markdown",
   "metadata": {},
   "source": [
    "___\n",
    "\n",
    "# Using Lexicons\n",
    "\n",
    "We will use different general purpose lexicons, and leverage them to perform unsupervised sentiment analysis, and compare the results. Also, we will use a domain-specific [lexicon](https://sraf.nd.edu/loughranmcdonald-master-dictionary/).\n",
    "\n",
    "The best performing one, will be used to create an extra feature to add to our data, and verify if it improves the traiend classifier models accuracy."
   ]
  },
  {
   "cell_type": "markdown",
   "metadata": {},
   "source": [
    "## VADER Sentiment"
   ]
  },
  {
   "cell_type": "code",
   "execution_count": 20,
   "metadata": {},
   "outputs": [],
   "source": [
    "from vaderSentiment.vaderSentiment import SentimentIntensityAnalyzer\n",
    "analyzer = SentimentIntensityAnalyzer()"
   ]
  },
  {
   "cell_type": "code",
   "execution_count": 21,
   "metadata": {},
   "outputs": [],
   "source": [
    "vader_pred = []\n",
    "for article in dataset[\"processed_headline\"]:\n",
    "    vader_pred.append(1 if analyzer.polarity_scores(article)['compound'] > 0 else 0)"
   ]
  },
  {
   "cell_type": "code",
   "execution_count": 22,
   "metadata": {},
   "outputs": [
    {
     "name": "stdout",
     "output_type": "stream",
     "text": [
      "Accuracy:  0.5375\n",
      "Precision:  0.593939393939394\n",
      "Recall:  0.4537037037037037\n",
      "F1:  0.5144356955380578\n"
     ]
    }
   ],
   "source": [
    "print(\"Accuracy: \", accuracy_score(y, vader_pred))\n",
    "print(\"Precision: \", precision_score(y, vader_pred))\n",
    "print(\"Recall: \", recall_score(y, vader_pred))\n",
    "print(\"F1: \", f1_score(y, vader_pred))"
   ]
  },
  {
   "cell_type": "markdown",
   "metadata": {},
   "source": [
    "## Afinn Sentiment"
   ]
  },
  {
   "cell_type": "code",
   "execution_count": 23,
   "metadata": {},
   "outputs": [],
   "source": [
    "from afinn import Afinn\n",
    "\n",
    "afn = Afinn()"
   ]
  },
  {
   "cell_type": "code",
   "execution_count": 24,
   "metadata": {},
   "outputs": [],
   "source": [
    "scores = [afn.score(article) for article in dataset[\"processed_headline\"]]\n",
    "sentiment = [\n",
    "    \"positive\" if score >= 0 else \"negative\"\n",
    "    for score in scores\n",
    "]\n",
    "\n",
    "afinn_pred = []\n",
    "for article in dataset[\"processed_headline\"]:\n",
    "    afinn_pred.append(1 if afn.score(article) > 0 else 0)"
   ]
  },
  {
   "cell_type": "code",
   "execution_count": 25,
   "metadata": {},
   "outputs": [
    {
     "name": "stdout",
     "output_type": "stream",
     "text": [
      "Accuracy:  0.6025\n",
      "Precision:  0.6706586826347305\n",
      "Recall:  0.5185185185185185\n",
      "F1:  0.5848563968668408\n"
     ]
    }
   ],
   "source": [
    "print(\"Accuracy: \", accuracy_score(y, afinn_pred))\n",
    "print(\"Precision: \", precision_score(y, afinn_pred))\n",
    "print(\"Recall: \", recall_score(y, afinn_pred))\n",
    "print(\"F1: \", f1_score(y, afinn_pred))"
   ]
  },
  {
   "cell_type": "markdown",
   "metadata": {},
   "source": [
    "## SentiWordNet"
   ]
  },
  {
   "cell_type": "code",
   "execution_count": 26,
   "metadata": {},
   "outputs": [],
   "source": [
    "from nltk.corpus import wordnet as wn\n",
    "from nltk.corpus import sentiwordnet as swn\n",
    "\n",
    "# nltk.download(\"sentiwordnet\")\n",
    "# nltk.download(\"wordnet\")\n",
    "# nltk.download(\"averaged_perceptron_tagger\")\n",
    "\n",
    "sentiwordnet_pred = []\n",
    "for article in dataset[\"processed_headline\"]:\n",
    "    tokenSentence = nltk.word_tokenize(article)\n",
    "    posTagSentence = nltk.pos_tag(tokenSentence)\n",
    "\n",
    "    sentimentPositive = 0.0\n",
    "    sentimentNegative = 0.0\n",
    "    articleCount = 0\n",
    "    final_sentiment = 0\n",
    "\n",
    "    for wordTagPair in posTagSentence:\n",
    "\n",
    "        word = wordTagPair[0]\n",
    "        posTag = wordTagPair[1]\n",
    "\n",
    "        if posTag.startswith(\"J\"):\n",
    "            posTag = wn.ADJ\n",
    "        elif posTag.startswith(\"R\"):\n",
    "            posTag = wn.ADV\n",
    "        elif posTag.startswith(\"N\"):\n",
    "            posTag = wn.NOUN\n",
    "        else:\n",
    "            continue\n",
    "\n",
    "        wordSynst = wn.synsets(word, pos=posTag)\n",
    "        if not wordSynst:\n",
    "            continue\n",
    "        chosenSynst = wordSynst[0]\n",
    "        sentiWordNet = swn.senti_synset(chosenSynst.name())\n",
    "        sentimentPositive += sentiWordNet.pos_score()\n",
    "        sentimentNegative += sentiWordNet.neg_score()\n",
    "        articleCount += 1\n",
    "\n",
    "    if sentimentPositive > sentimentNegative:\n",
    "        final_sentiment = 1\n",
    "    else:\n",
    "        final_sentiment = 0\n",
    "\n",
    "    sentiwordnet_pred.append(final_sentiment)"
   ]
  },
  {
   "cell_type": "code",
   "execution_count": 27,
   "metadata": {},
   "outputs": [
    {
     "name": "stdout",
     "output_type": "stream",
     "text": [
      "Accuracy:  0.56\n",
      "Precision:  0.6333333333333333\n",
      "Recall:  0.4398148148148148\n",
      "F1:  0.5191256830601093\n"
     ]
    }
   ],
   "source": [
    "print(\"Accuracy: \", accuracy_score(y, sentiwordnet_pred))\n",
    "print(\"Precision: \", precision_score(y, sentiwordnet_pred))\n",
    "print(\"Recall: \", recall_score(y, sentiwordnet_pred))\n",
    "print(\"F1: \", f1_score(y, sentiwordnet_pred))"
   ]
  },
  {
   "cell_type": "markdown",
   "metadata": {},
   "source": [
    "## Loughran McDonald Master Dictionary\n",
    "\n",
    "A domain-specific lexicon, altered to better fit the problem at hand (converted to a binary classification problem. Explained in [prepare_lexicon](data/prepare_lexicon.ipynb) notebook)."
   ]
  },
  {
   "cell_type": "code",
   "execution_count": 28,
   "metadata": {},
   "outputs": [
    {
     "data": {
      "text/html": [
       "<div>\n",
       "<style scoped>\n",
       "    .dataframe tbody tr th:only-of-type {\n",
       "        vertical-align: middle;\n",
       "    }\n",
       "\n",
       "    .dataframe tbody tr th {\n",
       "        vertical-align: top;\n",
       "    }\n",
       "\n",
       "    .dataframe thead th {\n",
       "        text-align: right;\n",
       "    }\n",
       "</style>\n",
       "<table border=\"1\" class=\"dataframe\">\n",
       "  <thead>\n",
       "    <tr style=\"text-align: right;\">\n",
       "      <th></th>\n",
       "      <th>Word</th>\n",
       "      <th>Sentiment</th>\n",
       "    </tr>\n",
       "  </thead>\n",
       "  <tbody>\n",
       "    <tr>\n",
       "      <th>0</th>\n",
       "      <td>abandon</td>\n",
       "      <td>0</td>\n",
       "    </tr>\n",
       "    <tr>\n",
       "      <th>1</th>\n",
       "      <td>abandoned</td>\n",
       "      <td>0</td>\n",
       "    </tr>\n",
       "    <tr>\n",
       "      <th>2</th>\n",
       "      <td>abandoning</td>\n",
       "      <td>0</td>\n",
       "    </tr>\n",
       "    <tr>\n",
       "      <th>3</th>\n",
       "      <td>abandonment</td>\n",
       "      <td>0</td>\n",
       "    </tr>\n",
       "    <tr>\n",
       "      <th>4</th>\n",
       "      <td>abandonments</td>\n",
       "      <td>0</td>\n",
       "    </tr>\n",
       "  </tbody>\n",
       "</table>\n",
       "</div>"
      ],
      "text/plain": [
       "           Word  Sentiment\n",
       "0       abandon          0\n",
       "1     abandoned          0\n",
       "2    abandoning          0\n",
       "3   abandonment          0\n",
       "4  abandonments          0"
      ]
     },
     "execution_count": 28,
     "metadata": {},
     "output_type": "execute_result"
    }
   ],
   "source": [
    "loughran_mcdonald = pd.read_csv(\"data/loughran-mcdonald-lexicon.csv\")\n",
    "loughran_mcdonald.head()"
   ]
  },
  {
   "cell_type": "code",
   "execution_count": 29,
   "metadata": {},
   "outputs": [],
   "source": [
    "def calculate_sentiment_score(article, lexicon):\n",
    "    words = article.lower().split()\n",
    "    positive_score = 0\n",
    "    negative_score = 0\n",
    "    for word in words:\n",
    "        if word in lexicon[\"Word\"].values:\n",
    "            sentiment = lexicon.loc[lexicon[\"Word\"] == word, \"Sentiment\"].values[0]\n",
    "            if sentiment == 1:\n",
    "                positive_score += 1\n",
    "            elif sentiment == 0:\n",
    "                negative_score += 1\n",
    "    if positive_score > negative_score:\n",
    "        return 1 \n",
    "    else:\n",
    "        return 0  "
   ]
  },
  {
   "cell_type": "code",
   "execution_count": 30,
   "metadata": {},
   "outputs": [],
   "source": [
    "loughran_mcdonald_preds = dataset[\"processed_headline\"].apply(\n",
    "    lambda x: calculate_sentiment_score(x, loughran_mcdonald)\n",
    ")"
   ]
  },
  {
   "cell_type": "code",
   "execution_count": 31,
   "metadata": {},
   "outputs": [
    {
     "name": "stdout",
     "output_type": "stream",
     "text": [
      "Accuracy:  0.5375\n",
      "Precision:  0.803921568627451\n",
      "Recall:  0.18981481481481483\n",
      "F1:  0.30711610486891383\n"
     ]
    }
   ],
   "source": [
    "print(\"Accuracy: \", accuracy_score(y, loughran_mcdonald_preds))\n",
    "print(\"Precision: \", precision_score(y, loughran_mcdonald_preds))\n",
    "print(\"Recall: \", recall_score(y, loughran_mcdonald_preds))\n",
    "print(\"F1: \", f1_score(y, loughran_mcdonald_preds))"
   ]
  },
  {
   "cell_type": "markdown",
   "metadata": {},
   "source": [
    "Even tought this lexicon was domain specific, it probably wasn't comprehensive enough, or it didn't contain the key terms deemed necessary to accuratly predict sentiment.\n",
    "\n",
    "___"
   ]
  },
  {
   "cell_type": "markdown",
   "metadata": {},
   "source": [
    "As we can see, **Afinn** was the best in classifying sentiment, lets use it to add a feature to the dataset, and re-apply our classifier"
   ]
  },
  {
   "cell_type": "code",
   "execution_count": 32,
   "metadata": {},
   "outputs": [],
   "source": [
    "dataset[\"afinn_pred\"] = afinn_pred"
   ]
  },
  {
   "cell_type": "code",
   "execution_count": 33,
   "metadata": {},
   "outputs": [],
   "source": [
    "afinn_preds = np.array(dataset[\"afinn_pred\"]).reshape(-1, 1)"
   ]
  },
  {
   "cell_type": "code",
   "execution_count": 34,
   "metadata": {},
   "outputs": [],
   "source": [
    "X2 = X.copy()\n",
    "X2 = np.hstack((X2, afinn_preds))"
   ]
  },
  {
   "cell_type": "code",
   "execution_count": 35,
   "metadata": {},
   "outputs": [
    {
     "name": "stdout",
     "output_type": "stream",
     "text": [
      "(320, 3097) (320,)\n",
      "(80, 3097) (80,)\n",
      "\n",
      "Label distribution in the training set:\n",
      "Final Status\n",
      "1    176\n",
      "0    144\n",
      "Name: count, dtype: int64\n",
      "\n",
      "Label distribution in the test set:\n",
      "Final Status\n",
      "0    40\n",
      "1    40\n",
      "Name: count, dtype: int64\n"
     ]
    }
   ],
   "source": [
    "X_train2, X_test2, y_train2, y_test2 = train_test_split(\n",
    "    X2, y, test_size=0.2, random_state=42\n",
    ")\n",
    "\n",
    "print(X_train2.shape, y_train2.shape)\n",
    "print(X_test2.shape, y_test2.shape)\n",
    "\n",
    "print(\"\\nLabel distribution in the training set:\")\n",
    "print(y_train2.value_counts())\n",
    "\n",
    "print(\"\\nLabel distribution in the test set:\")\n",
    "print(y_test2.value_counts())"
   ]
  },
  {
   "cell_type": "code",
   "execution_count": 36,
   "metadata": {},
   "outputs": [
    {
     "data": {
      "image/png": "[encoded data removed]",
      "text/plain": [
       "<Figure size 1200x1000 with 4 Axes>"
      ]
     },
     "metadata": {},
     "output_type": "display_data"
    },
    {
     "name": "stdout",
     "output_type": "stream",
     "text": [
      "Classifier: Naive Bayes\n",
      "Accuracy: 0.64\n",
      "Precision: 0.60\n",
      "Recall: 0.80\n",
      "F1 Score: 0.69\n",
      "------------------------------\n",
      "Classifier: Logistic Regression\n",
      "Accuracy: 0.74\n",
      "Precision: 0.70\n",
      "Recall: 0.82\n",
      "F1 Score: 0.76\n",
      "------------------------------\n",
      "Classifier: Decision Tree\n",
      "Accuracy: 0.61\n",
      "Precision: 0.60\n",
      "Recall: 0.70\n",
      "F1 Score: 0.64\n",
      "------------------------------\n",
      "Classifier: Random Forest\n",
      "Accuracy: 0.66\n",
      "Precision: 0.62\n",
      "Recall: 0.85\n",
      "F1 Score: 0.72\n",
      "------------------------------\n",
      "Classifier: SVC\n",
      "Accuracy: 0.74\n",
      "Precision: 0.74\n",
      "Recall: 0.72\n",
      "F1 Score: 0.73\n",
      "------------------------------\n",
      "Classifier: Multi-Layer Perceptron\n",
      "Accuracy: 0.66\n",
      "Precision: 0.63\n",
      "Recall: 0.78\n",
      "F1 Score: 0.70\n",
      "------------------------------\n",
      "Classifier: XGBoost\n",
      "Accuracy: 0.65\n",
      "Precision: 0.61\n",
      "Recall: 0.82\n",
      "F1 Score: 0.70\n",
      "------------------------------\n"
     ]
    }
   ],
   "source": [
    "evaluations2 = {\n",
    "    classifier_name: evaluate_classifier(classifier, X_train2, y_train2, X_test2, y_test2)\n",
    "    for classifier_name, classifier in classifiers_tuned.items()\n",
    "}\n",
    "metrics_names = [\"Accuracy\", \"Precision\", \"Recall\", \"F1 Score\"]\n",
    "fig, axs = plt.subplots(2, 2, figsize=(12, 10))\n",
    "\n",
    "colors = [\"blue\", \"orange\", \"green\", \"red\", \"pink\", \"brown\", \"purple\"]\n",
    "\n",
    "for i, metric in enumerate(metrics_names):\n",
    "    row = i // 2\n",
    "    col = i % 2\n",
    "    scores = [evaluation[i] for evaluation in evaluations2.values()]\n",
    "    axs[row, col].bar(classifiers.keys(), scores, color=colors)\n",
    "    axs[row, col].set_title(metric)\n",
    "    axs[row, col].set_ylabel(\"Score\")\n",
    "    axs[row, col].set_ylim([0, 1])\n",
    "    axs[row, col].tick_params(axis=\"x\", labelrotation=45, labelsize=\"small\")\n",
    "\n",
    "plt.tight_layout()\n",
    "plt.show()\n",
    "\n",
    "for classifier_name, metrics in evaluations2.items():\n",
    "    print(f\"Classifier: {classifier_name}\")\n",
    "    print(f\"Accuracy: {metrics[0]:.2f}\")\n",
    "    print(f\"Precision: {metrics[1]:.2f}\")\n",
    "    print(f\"Recall: {metrics[2]:.2f}\")\n",
    "    print(f\"F1 Score: {metrics[3]:.2f}\")\n",
    "    print(\"-\" * 30)"
   ]
  },
  {
   "cell_type": "markdown",
   "metadata": {},
   "source": [
    "___\n",
    "\n",
    "## Final Evaluation"
   ]
  },
  {
   "cell_type": "code",
   "execution_count": 37,
   "metadata": {},
   "outputs": [
    {
     "name": "stdout",
     "output_type": "stream",
     "text": [
      "Classifier Accuracy    Base                      +Lexicon Features        \n",
      "----------------------------------------------------------------------------------\n",
      "Decision Tree          0.59            0.61\n",
      "Logistic Regression    0.71            0.74\n",
      "Multi-Layer Perceptron 0.68            0.66\n",
      "Naive Bayes            0.68            0.64\n",
      "Random Forest          0.68            0.66\n",
      "SVC                    0.68            0.74\n",
      "XGBoost                0.66            0.65\n"
     ]
    }
   ],
   "source": [
    "max_name_length = max(len(name) for name in evaluations.keys() | evaluations2.keys())\n",
    "\n",
    "print(\n",
    "    f\"{'Classifier Accuracy':<{max_name_length}} {'Base':<25} {'+Lexicon Features':<25}\"\n",
    ")\n",
    "print(\"-\" * (max_name_length + 60))  \n",
    "\n",
    "for classifier_name in sorted(set(evaluations.keys()) | set(evaluations2.keys())):\n",
    "    accuracy_evaluations = evaluations.get(classifier_name, (0,))[0]\n",
    "    accuracy_evaluations2 = evaluations2.get(classifier_name, (0,))[0]\n",
    "    print(\n",
    "        f\"{classifier_name:<{max_name_length}} {accuracy_evaluations:.2f} {' ' * 10} {accuracy_evaluations2:.2f}\"\n",
    "    )"
   ]
  },
  {
   "cell_type": "markdown",
   "metadata": {},
   "source": [
    "As we can see, the best classifier model was:\n",
    "\n",
    "Logistic Regression and SVC, with an accuracy of 68% and 71% on base, and improved to 74% (and others) with the Lexicons predictions as a feature!"
   ]
  }
 ],
 "metadata": {
  "kernelspec": {
   "display_name": "Python 3 (ipykernel)",
   "language": "python",
   "name": "python3"
  },
  "language_info": {
   "codemirror_mode": {
    "name": "ipython",
    "version": 3
   },
   "file_extension": ".py",
   "mimetype": "text/x-python",
   "name": "python",
   "nbconvert_exporter": "python",
   "pygments_lexer": "ipython3",
   "version": "3.12.1"
  }
 },
 "nbformat": 4,
 "nbformat_minor": 4
}
