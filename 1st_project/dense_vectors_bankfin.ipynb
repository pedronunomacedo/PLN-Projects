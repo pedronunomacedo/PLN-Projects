{
 "cells": [
  {
   "cell_type": "markdown",
   "metadata": {},
   "source": [
    "## Data Load and Exploration"
   ]
  },
  {
   "cell_type": "code",
   "execution_count": 1,
   "metadata": {},
   "outputs": [
    {
     "data": {
      "text/html": [
       "<div>\n",
       "<style scoped>\n",
       "    .dataframe tbody tr th:only-of-type {\n",
       "        vertical-align: middle;\n",
       "    }\n",
       "\n",
       "    .dataframe tbody tr th {\n",
       "        vertical-align: top;\n",
       "    }\n",
       "\n",
       "    .dataframe thead th {\n",
       "        text-align: right;\n",
       "    }\n",
       "</style>\n",
       "<table border=\"1\" class=\"dataframe\">\n",
       "  <thead>\n",
       "    <tr style=\"text-align: right;\">\n",
       "      <th></th>\n",
       "      <th>Date_published</th>\n",
       "      <th>Headline</th>\n",
       "      <th>Synopsis</th>\n",
       "      <th>Full_text</th>\n",
       "      <th>Final Status</th>\n",
       "    </tr>\n",
       "  </thead>\n",
       "  <tbody>\n",
       "    <tr>\n",
       "      <th>0</th>\n",
       "      <td>2022-06-21</td>\n",
       "      <td>Banks holding on to subsidy share, say payment...</td>\n",
       "      <td>The companies have written to the National Pay...</td>\n",
       "      <td>ReutersPayments companies and banks are at log...</td>\n",
       "      <td>Negative</td>\n",
       "    </tr>\n",
       "    <tr>\n",
       "      <th>1</th>\n",
       "      <td>2022-04-19</td>\n",
       "      <td>Digitally ready Bank of Baroda aims to click o...</td>\n",
       "      <td>At present, 50% of the bank's retail loans are...</td>\n",
       "      <td>AgenciesThe bank presently has 20 million acti...</td>\n",
       "      <td>Positive</td>\n",
       "    </tr>\n",
       "    <tr>\n",
       "      <th>2</th>\n",
       "      <td>2022-05-27</td>\n",
       "      <td>Karnataka attracted investment commitment of R...</td>\n",
       "      <td>Karnataka is at the forefront in attracting in...</td>\n",
       "      <td>PTIKarnataka Chief Minister Basavaraj Bommai.K...</td>\n",
       "      <td>Positive</td>\n",
       "    </tr>\n",
       "    <tr>\n",
       "      <th>3</th>\n",
       "      <td>2022-04-06</td>\n",
       "      <td>Splitting of provident fund accounts may be de...</td>\n",
       "      <td>The EPFO is likely to split accounts only at t...</td>\n",
       "      <td>Getty ImagesThe budget for FY22 had imposed in...</td>\n",
       "      <td>Negative</td>\n",
       "    </tr>\n",
       "    <tr>\n",
       "      <th>4</th>\n",
       "      <td>2022-06-14</td>\n",
       "      <td>Irdai weighs proposal to privatise Insurance I...</td>\n",
       "      <td>Set up in 2009 as an advisory body, IIB collec...</td>\n",
       "      <td>AgenciesThere is a view in the insurance indus...</td>\n",
       "      <td>Positive</td>\n",
       "    </tr>\n",
       "  </tbody>\n",
       "</table>\n",
       "</div>"
      ],
      "text/plain": [
       "  Date_published                                           Headline  \\\n",
       "0     2022-06-21  Banks holding on to subsidy share, say payment...   \n",
       "1     2022-04-19  Digitally ready Bank of Baroda aims to click o...   \n",
       "2     2022-05-27  Karnataka attracted investment commitment of R...   \n",
       "3     2022-04-06  Splitting of provident fund accounts may be de...   \n",
       "4     2022-06-14  Irdai weighs proposal to privatise Insurance I...   \n",
       "\n",
       "                                            Synopsis  \\\n",
       "0  The companies have written to the National Pay...   \n",
       "1  At present, 50% of the bank's retail loans are...   \n",
       "2  Karnataka is at the forefront in attracting in...   \n",
       "3  The EPFO is likely to split accounts only at t...   \n",
       "4  Set up in 2009 as an advisory body, IIB collec...   \n",
       "\n",
       "                                           Full_text Final Status  \n",
       "0  ReutersPayments companies and banks are at log...     Negative  \n",
       "1  AgenciesThe bank presently has 20 million acti...     Positive  \n",
       "2  PTIKarnataka Chief Minister Basavaraj Bommai.K...     Positive  \n",
       "3  Getty ImagesThe budget for FY22 had imposed in...     Negative  \n",
       "4  AgenciesThere is a view in the insurance indus...     Positive  "
      ]
     },
     "execution_count": 1,
     "metadata": {},
     "output_type": "execute_result"
    }
   ],
   "source": [
    "import pandas as pd\n",
    "import numpy as np\n",
    "\n",
    "dataset = pd.read_csv(\"data/dataset.csv\", encoding=\"utf-8\")\n",
    "\n",
    "dataset.head()"
   ]
  },
  {
   "cell_type": "code",
   "execution_count": 2,
   "metadata": {},
   "outputs": [
    {
     "name": "stdout",
     "output_type": "stream",
     "text": [
      "Final Status\n",
      "Positive     215\n",
      "Negative     184\n",
      "Positive       1\n",
      "Name: count, dtype: int64\n",
      "Final Status\n",
      "Positive     0.5375\n",
      "Negative     0.4600\n",
      "Positive     0.0025\n",
      "Name: proportion, dtype: float64\n"
     ]
    },
    {
     "data": {
      "text/plain": [
       "<Axes: xlabel='Final Status'>"
      ]
     },
     "execution_count": 2,
     "metadata": {},
     "output_type": "execute_result"
    },
    {
     "data": {
      "image/png": "[encoded data removed]",
      "text/plain": [
       "<Figure size 640x480 with 1 Axes>"
      ]
     },
     "metadata": {},
     "output_type": "display_data"
    }
   ],
   "source": [
    "print(dataset[\"Final Status\"].value_counts())\n",
    "\n",
    "print(dataset[\"Final Status\"].value_counts(normalize=True))\n",
    "\n",
    "dataset[\"Final Status\"].value_counts().plot(kind=\"bar\")"
   ]
  },
  {
   "cell_type": "markdown",
   "metadata": {},
   "source": [
    "## Data Cleaning"
   ]
  },
  {
   "cell_type": "markdown",
   "metadata": {},
   "source": [
    "On line 97 of the original dataset CSV file, a space was found after the class label, originating in a new erroneous class."
   ]
  },
  {
   "cell_type": "code",
   "execution_count": 3,
   "metadata": {},
   "outputs": [
    {
     "data": {
      "text/plain": [
       "'Positive '"
      ]
     },
     "execution_count": 3,
     "metadata": {},
     "output_type": "execute_result"
    }
   ],
   "source": [
    "dataset.iloc[97][\"Final Status\"]"
   ]
  },
  {
   "cell_type": "code",
   "execution_count": 4,
   "metadata": {},
   "outputs": [
    {
     "data": {
      "text/plain": [
       "'Positive'"
      ]
     },
     "execution_count": 4,
     "metadata": {},
     "output_type": "execute_result"
    }
   ],
   "source": [
    "dataset.iloc[97][\"Final Status\"] = 'Positive'\n",
    "dataset.iloc[97][\"Final Status\"]"
   ]
  },
  {
   "cell_type": "code",
   "execution_count": 5,
   "metadata": {},
   "outputs": [
    {
     "name": "stdout",
     "output_type": "stream",
     "text": [
      "Final Status\n",
      "Positive    216\n",
      "Negative    184\n",
      "Name: count, dtype: int64\n",
      "Final Status\n",
      "Positive    0.54\n",
      "Negative    0.46\n",
      "Name: proportion, dtype: float64\n"
     ]
    },
    {
     "data": {
      "text/plain": [
       "<Axes: xlabel='Final Status'>"
      ]
     },
     "execution_count": 5,
     "metadata": {},
     "output_type": "execute_result"
    },
    {
     "data": {
      "image/png": "[encoded data removed]",
      "text/plain": [
       "<Figure size 640x480 with 1 Axes>"
      ]
     },
     "metadata": {},
     "output_type": "display_data"
    }
   ],
   "source": [
    "print(dataset[\"Final Status\"].value_counts())\n",
    "\n",
    "print(dataset[\"Final Status\"].value_counts(normalize=True))\n",
    "\n",
    "dataset[\"Final Status\"].value_counts().plot(kind=\"bar\")"
   ]
  },
  {
   "cell_type": "code",
   "execution_count": 6,
   "metadata": {},
   "outputs": [],
   "source": [
    "# Convert to binary\n",
    "dataset[\"Final Status\"] = dataset[\"Final Status\"].map({\"Positive\": 1, \"Negative\": 0})"
   ]
  },
  {
   "cell_type": "code",
   "execution_count": 7,
   "metadata": {},
   "outputs": [
    {
     "name": "stdout",
     "output_type": "stream",
     "text": [
      "Missing Values:\n",
      " Date_published    0\n",
      "Headline          0\n",
      "Synopsis          1\n",
      "Full_text         0\n",
      "Final Status      0\n",
      "dtype: int64\n"
     ]
    }
   ],
   "source": [
    "print(\"Missing Values:\\n\", dataset.isnull().sum())"
   ]
  },
  {
   "cell_type": "markdown",
   "metadata": {},
   "source": [
    "Since it's just an empty Synopsis, and we still have the title and full text, then we can leave it in the corpus. (However, we need to converter NaN field to empty string, otherwise the whole article would be ignored on the preprocessing phase.)"
   ]
  },
  {
   "cell_type": "code",
   "execution_count": 8,
   "metadata": {},
   "outputs": [
    {
     "data": {
      "text/plain": [
       "Index([56], dtype='int64')"
      ]
     },
     "execution_count": 8,
     "metadata": {},
     "output_type": "execute_result"
    }
   ],
   "source": [
    "# Check  and clean empty Synopsis\n",
    "dataset[dataset[\"Synopsis\"].isna()].index"
   ]
  },
  {
   "cell_type": "code",
   "execution_count": 9,
   "metadata": {},
   "outputs": [],
   "source": [
    "dataset.loc[56, \"Synopsis\"] = \" \""
   ]
  },
  {
   "cell_type": "markdown",
   "metadata": {},
   "source": [
    "## Preprocessing Text"
   ]
  },
  {
   "cell_type": "code",
   "execution_count": 10,
   "metadata": {},
   "outputs": [],
   "source": [
    "import re, string\n",
    "import nltk\n",
    "from nltk.tokenize import word_tokenize\n",
    "from nltk.corpus import stopwords\n",
    "from nltk.stem import WordNetLemmatizer\n",
    "from nltk.stem.porter import PorterStemmer\n",
    "\n",
    "\n",
    "lemmatizer = WordNetLemmatizer()\n",
    "ps = PorterStemmer()"
   ]
  },
  {
   "cell_type": "code",
   "execution_count": 11,
   "metadata": {},
   "outputs": [],
   "source": [
    "# list of negative words to be removed from the set stop words, since they may convey sentiment\n",
    "\n",
    "negative_words = {\n",
    "    \"no\",\n",
    "    \"not\",\n",
    "    \"none\",\n",
    "    \"neither\",\n",
    "    \"never\",\n",
    "    \"nobody\",\n",
    "    \"nothing\",\n",
    "    \"nowhere\",\n",
    "    \"doesn't\",\n",
    "    \"isn't\",\n",
    "    \"wasn't\",\n",
    "    \"shouldn't\",\n",
    "    \"won't\",\n",
    "    \"can't\",\n",
    "    \"couldn't\",\n",
    "    \"don't\",\n",
    "    \"haven't\",\n",
    "    \"hasn't\",\n",
    "    \"hadn't\",\n",
    "    \"aren't\",\n",
    "    \"weren't\",\n",
    "    \"wouldn't\",\n",
    "    \"daren't\",\n",
    "    \"needn't\",\n",
    "    \"didn't\",\n",
    "    \"without\",\n",
    "    \"against\",\n",
    "    \"negative\",\n",
    "    \"deny\",\n",
    "    \"reject\",\n",
    "    \"refuse\",\n",
    "    \"decline\",\n",
    "    \"unhappy\",\n",
    "    \"sad\",\n",
    "    \"miserable\",\n",
    "    \"hopeless\",\n",
    "    \"worthless\",\n",
    "    \"useless\",\n",
    "    \"futile\",\n",
    "    \"disagree\",\n",
    "    \"oppose\",\n",
    "    \"contrary\",\n",
    "    \"contradict\",\n",
    "    \"disapprove\",\n",
    "    \"dissatisfied\",\n",
    "    \"objection\",\n",
    "    \"unsatisfactory\",\n",
    "    \"unpleasant\",\n",
    "    \"regret\",\n",
    "    \"resent\",\n",
    "    \"lament\",\n",
    "    \"mourn\",\n",
    "    \"grieve\",\n",
    "    \"bemoan\",\n",
    "    \"despise\",\n",
    "    \"loathe\",\n",
    "    \"detract\",\n",
    "    \"abhor\",\n",
    "    \"dread\",\n",
    "    \"fear\",\n",
    "    \"worry\",\n",
    "    \"anxiety\",\n",
    "    \"sorrow\",\n",
    "    \"gloom\",\n",
    "    \"melancholy\",\n",
    "    \"dismay\",\n",
    "    \"disheartened\",\n",
    "    \"despair\",\n",
    "    \"dislike\",\n",
    "    \"aversion\",\n",
    "    \"antipathy\",\n",
    "    \"hate\",\n",
    "    \"disdain\",\n",
    "}\n",
    "sw = set(stopwords.words(\"english\"))\n",
    "stop_words = sw - negative_words"
   ]
  },
  {
   "cell_type": "code",
   "execution_count": 12,
   "metadata": {},
   "outputs": [],
   "source": [
    "def preprocess_text(text):\n",
    "    text = re.sub(\"[^a-zA-Z]\", \" \", str(text))  # alpha only\n",
    "    # text = re.sub(\"[^a-zA-Z0-9]\", \" \", str(text))  # also numbers\n",
    "    # text = re.sub(\"[^a-zA-Z0-9%]\", \" \", str(text))  # also numbers and %\n",
    "    #tokens = word_tokenize(text.lower())\n",
    "    #tokens = [token for token in tokens if token not in stop_words]\n",
    "    #tokens = [ps.stem(token) for token in tokens]\n",
    "    #tokens = [lemmatizer.lemmatize(token) for token in tokens]\n",
    "    return text\n",
    "    #return \" \".join(tokens)"
   ]
  },
  {
   "cell_type": "code",
   "execution_count": 13,
   "metadata": {},
   "outputs": [],
   "source": [
    "corpus = []\n",
    "dataset[\"processed_article\"] = (\n",
    "    dataset[\"Headline\"] + \" \" + dataset[\"Synopsis\"] + \" \" + dataset[\"Full_text\"]\n",
    ")\n",
    "\n",
    "for i in range(len(dataset[\"processed_article\"])):\n",
    "    dataset.loc[i,\"processed_article\"] = preprocess_text(dataset[\"processed_article\"][i])\n",
    "    corpus.append(dataset[\"processed_article\"][i])"
   ]
  },
  {
   "cell_type": "code",
   "execution_count": 14,
   "metadata": {},
   "outputs": [
    {
     "data": {
      "text/plain": [
       "['Banks holding on to subsidy share  say payments firms The companies have written to the National Payments Corp  of India  NPCI   complaining that        crore of the          crore granted in the budget is being retained by banks  ReutersPayments companies and banks are at loggerheads over the sharing of government granted subsidies for building payment infrastructure  said three people with knowledge of the matter      The companies have written to the National Payments Corp  of India  NPCI   complaining that        crore of the          crore granted in the budget is being retained by banks  they said  This has deprived companies connecting up the last mile of state promised revenues  according to them  The government granted the subsidies in exchange for waiving Merchant Discount Rate  MDR  charges      The government has released        crore worth of subsidies to banks but they are not sharing it with any payment aggregators   said the CEO of a payments company on condition of anonymity       Compensation for MDR Waiver     We have taken up the matter with NPCI  which is the nodal agency but the feedback that we got is that we should take the matter up with respective banks  but they are not responding      Last year  finance minister Nirmala Sitharaman had announced a Rs       crore fund to hasten the expansion of India s digital payments industry  a move that was seen as compensating for the waiver of MDR on the use of the Unified Payments Interface  UPI  and RuPay cards in her previous budget      Payment aggregators are entitled to receive a    basis point subvention on small value digital transactions  A basis point is      percentage point            We have asked all banks for whom we process transactions on the RuPay debit cards  they are not sharing any subsidy amount with us   said another CEO   Payment aggregators put in so much effort to acquire transactions on the RuPay platform when most banks were either surrendering these cards or going slow on expansion      Banks didn t respond to queries on the matter     Currently  the cost of digital payment services such as switching fees or interchange fees is borne by one or more of the payment system participants or is passed on to merchants through the MDR or ultimately levied on the customer as additional charges     The Reserve Bank of India  RBI  said it will carry out a comprehensive review of all aspects related to charges involved in various channels of digital payments in the recently released Payments Vision      document      We believe this review could result in relatively higher credit card and wallet MDRs and the introduction of MDR on UPI to at least cover the cost   said Anand Dama  senior research analyst  Emkay Global     While the adoption of electronic payments has surged  concerns abound over viability  Total digital payments rose      and     in terms of volume and value  respectively  in March from the year earlier  according to RBI data     On the other hand  usage of paper instruments such as cheques declined significantly during the period  with their share in total retail payments registering a decline from       to       in terms of volume and from        to        in terms of value ',\n",
       " 'Digitally ready Bank of Baroda aims to click on more loans At present      of the bank s retail loans are sourced digitally  Out of this      of the bank s personal loans are disbursed end to end digitally while the bulk of the home loan originations is done digitally   AgenciesThe bank presently has    million active users on its mobile app  with plans to reach    million customers in a year s time After overhauling its IT infrastructure to set up digital banking departments internally  public sector lender Bank of Baroda is now targeting at least     of retail originations and     of MSME loans  value wise  to be done digitally by the end of the current fiscal year  The bank is also targeting           crore of digital lending in the current fiscal year      We believe that this year we will disburse loans of over           crore through our digital bank this year alone   said Akhil Handa  chief digital officer  Bank of Baroda   This will be a combination of retail  home  auto  personal  loans and small ticket MSME loans  Mudra loans and small ticket business loans   We have a substantial advantage over peer banks that are getting started with their digital journey      Handa added that at least           crore           crore will come from lending to the retail sector  while the balance will be contributed by the MSME segment     At present      of the bank s retail loans are sourced digitally  Out of this      of the bank s personal loans are disbursed end to end digitally while the bulk of the home loan originations is done digitally  About     of all new retail accounts were done digitally   About     of retail and     of MSME will be digital this year  Our thrust is on the personal loan product and looking at the present run rate that alone will help us reach our lending goal   Handa said     The public sector lender is also aiming to onboard     of new retail customers through mobile banking and book     of its deposits through this mode     Last year  the bank rolled out a digital lending department that will digitise half of its        lakh crore balance sheet  including retail  MSME and agriculture  The bank expects the move toward digitisation would help it bring down the cost of operations by         Recently  the Bank launched  bob World   its all new digital banking platform  which is aimed at providing an all inclusive and seamless virtual banking experience     The bank presently has    million active users on its mobile app  with plans to reach    million customers in a year s time  It s aiming that nearly     of its non financial inclusion customers will use this app as a primary interface   Our market share of mobile banking application downloads is       which is twice our market share of retail customer deposits  which is          Handa said       ',\n",
       " 'Karnataka attracted investment commitment of Rs        crore at WEF meet  Basavaraj Bommai Karnataka is at the forefront in attracting investments and the WEF Meet has proved to be a  success   he said  as he asserted that the State has  not lost or is not going to lose  in attracting investments in the backdrop of such concerns citing certain developments locally  PTIKarnataka Chief Minister Basavaraj Bommai Karnataka Chief Minister Basavaraj Bommai on Friday said the State government has succeeded in drawing investment commitment worth about Rs        crore with its participation at the World Economic Forum Meet in Davos  Switzerland  Karnataka is at the forefront in attracting investments and the WEF Meet has proved to be a  success   he said  as he asserted that the State has  not lost or is not going to lose  in attracting investments in the backdrop of such concerns citing certain developments locally       Investment commitments worth Rs        crore        crore are expected to flow into the State after our discussions with about    companies during the Davos meet   Bommai said      Speaking to reporters after returning from Davos  he said the investments are a proof of the immense trust and faith Karnataka enjoys  especially with regard to its technology base  skilled manpower  among the top corporates of the world       They are of the opinion that Karnataka is the destination for investment in new technologies   the government is committed to ensuring implementation of these investment commitments with an end to end approach   he said  adding that all these projects would be sanctioned in six months and it may take one to two years for realisation  while renewable energy related ones would take     years      The government is expecting a good response to its Global Investors  Meet to be held in Bengaluru in November and the Bengaluru Tech Summit after this Davos meet      To a question about neighbouring Andhra Pradesh claiming a higher investment of Rs          crore investment  Bommai said Karnataka cannot be compared with any other States  as the State has international standards and is attracting investment from companies of similar standards       We will also have similar numbers  for example Adani group has committed a project worth Rs        crore  but they have not signed an MoU  but they have committed  Also  we have had investments in important areas of the future like hydrogen fuels  semiconductor  defence  aerospace   he said  adding that he has explained to business leaders including Lakshmi Mittal  Executive Chairman of ArcelorMittal  about  Ease of Doing Business  policy of Karnataka      Detailing about investment proposals  the Chief Minister said ReNew Power Pvt  Ltd  has signed an MoU for an investment of Rs        crore spread over the next seven years for setting up renewable energy  battery storage  green hydrogen units with employment opportunities for about        people      The company intends to implement the projects in two phases  he said  In the first phase  the projects which are already under implementation would be operationalised within two years with an investment of Rs        crore  and in the second phase Renewable Energy and Green Hydrogen units would be set up over the next five years at an investment of Rs        crore      Further  Lulu Group International has inked an MoU for investing Rs       crore  Bommai said  adding  the company is keen to open four shopping malls  hyper market and export oriented agro products stores in the State with employment potential for more than        people      Jubilant Group s Jubilant Food Works has decided to set up its new centralised kitchen and Jubilant Biosys has agreed to set up its R   D Centre in Devanahalli in a    acre plot and would be investing Rs     crore this year  About       people are already employed in the company      A detailed presentation has also been made for the company to convince about attractive incentive packages to invest in pharma and FMCG sectors in the State with major focus on the FMCG Park being developed in Dharwad      Hitachi Energy has shown interest in setting up EV charging infrastructure  renewable energy and digitalisation projects  and is keen on employing about       engineers this year      Siemens Healthineers is undertaking R   D in healthcare projects focussing on magnetic imaging and diagnostics with an investment of Rs       crore      The State government has assured special incentives for setting up advanced manufacturing of medical devices to cater to the local market with an investment of Rs     crore  Thus  the company is keen to invest a total of over Rs       crore in the State      Further noting that the Hero group has discussed setting up EV manufacturing  the Chief Minister said   We have asked them to consider the north Karnataka region and we will provide incentives       Under the  Beyond Bengaluru  programme  the State government discussed investment opportunities in cities like Tumakuru  Hubli Dharwad  and Mysuru       Ab InBev  intends to set up a non alcoholic beverages unit in the State with an investment of Rs    crore  while Nestle is set to expand and modernise its existing Instant Coffee unit in Nanjangud with an investment of Rs     crore      Dassault Systems has evinced interest to invest in Electric Vehicles  Modern Production systems in association with Central Manufacturing Technology Institute  industrial training for students in Digital     technology and Smart City project in Karnataka with total investments of Rs     crore      Schneider Electric is planning to consolidate their     facilities in Attibele to a single unit in Jigani with additional capacity for manufacturing new models of Data Centre UPS and energy efficient devices with an investment of Rs     crore      ArcelorMittal plans to set up a solar wind hybrid project with an investment of Rs       crore  while Bharti Enterprises plans to set up a Mega Data Centre in Karnataka in addition to their existing Data Centres      Apart from these  Adani Group  Dalmia Cement  Johnson Controls  Honeywell  IBM  IKEA Stores  PayPal  Axis Bank have shown interest to invest in various sectors of the State      Discussions with corporate honchos  included opportunities for setting up mega textiles park at Bijapur Kalaburagi  production of metro train Coaches  and pharma units      This was Bommai s first overseas trip as Chief Minister   We',\n",
       " 'Splitting of provident fund accounts may be delayed The EPFO is likely to split accounts only at the time of crediting the interest for FY    which generally happens between September and December of the following fiscal year  they added  The EPFO had declared an interest rate of      for FY   at its central board of trustees meeting last month  Getty ImagesThe budget for FY   had imposed income tax on interest earned on subscriber contributions of more than        lakh a year The Employees  Provident Fund Organisation  EPFO  hasn t yet been able to split subscriber accounts into two for members who contributed more than        lakh last fiscal  which may create tax complications and filing issues  experts said  The EPFO is likely to split accounts only at the time of crediting the interest for FY    which generally happens between September and December of the following fiscal year  they added  The EPFO had declared an interest rate of      for FY   at its central board of trustees meeting last month     The budget for FY   had imposed income tax on interest earned on subscriber contributions of more than        lakh a year      Since income tax returns are required to be filed by July     this may create issues if taxpayers are not aware of the taxable interest earned on provident fund contributions      As per the plan  existing provident fund  PF  accounts with an employee contribution of over        lakh were to be split into two from April          The Central Board of Direct Taxes  CBDT  had inserted Rule  D in the Income Tax Rules        which specified that two separate accounts within the PF account shall be maintained to segregate the taxable and non taxable contributions to PF along with the interest paid           There is still a lack of clarity on the details of how this is to be done     The EPFO did not respond to a query from ET on the possible delay      Organisations with PF trusts  which have the obligation of withholding tax  have started discussing it but await clarity from the EPFO on how to go about it as segregated accounts are not yet in place   said Saraswathi Kasturirangan  partner  Deloitte India  This may happen at the time of crediting of interest for the previous fiscal  he said     A top government official told ET that the EPFO is in advanced stages of developing the system and it could be effective anytime as the retirement fund body starts accounting for the previous year  Those with a basic salary of about       lakh or more would fall under this net as their     contribution would exceed        lakh  Voluntary contributions by employees would also be counted toward this limit     ',\n",
       " 'Irdai weighs proposal to privatise Insurance Information Bureau Set up in      as an advisory body  IIB collects transactional data from insurers for different lines of business  and produces periodical reports for the benefit of stakeholders in the insurance industry  It was converted into an independent society in       AgenciesThere is a view in the insurance industry that IIB has not been able to achieve its full potential in absence of an independent and sustainable revenue model  said another executive aware of the matter Insurance regulator is examining the recommendations of a committee that has suggested privatisation of the Insurance Information Bureau or IIB  The committee set up by the Insurance Regulatory and Development Authority of India or Irdai has said that IIB should be turned into a private company owned and operated by the insurance industry with legislative backing  said two executives aware of the matter      All recommendations are under consideration   said the first executive  explaining that a privatised bureau will help in maintaining the supply of quality data and further make it a profitable business entity      Privatisation of IIB will ensure that it explores new areas of operation  provides better service to the insurance industry and has an attractive revenue model for itself   he said  adding that the recommendations were submitted last month     Set up in      as an advisory body  IIB collects transactional data from insurers for different lines of business  and produces periodical reports for the benefit of stakeholders in the insurance industry  It was converted into an independent society in          There is a view in the insurance industry that IIB has not been able to achieve its full potential in absence of an independent and sustainable revenue model  said another executive aware of the matter   ',\n",
       " 'India UAE trade pact to create huge job opportunities  boost economy  Piyush Goyal The agreement opens the door for many sectors  particularly labour intensive ones such as textiles  gem and jewellery  pharmaceuticals and agriculture  Goyal said while briefing the media along with the UAE Minister for Economy Abdullah Bin Touq Al Marri here  AgenciesGoyal added that the pact would not only open doors for Indian businesses to UAE but also to other countries as UAE is a transit point for large parts of Africa  CIS  Commonwealth of Independent States  countries  and the Gulf region The comprehensive trade agreement between India and the UAE will help in creating huge job opportunities and boost growth of the domestic economy  Commerce and Industry Minister Piyush Goyal said on Friday  The bilateral pact  officially dubbed as the Comprehensive Economic Partnership Agreement  CEPA  is expected to increase the bilateral trade in goods to over USD     billion and trade in services to over USD    billion within five years       It came into effect from May         The agreement opens the door for many sectors  particularly labour intensive ones such as textiles  gem and jewellery  pharmaceuticals and agriculture  Goyal said while briefing the media along with the UAE Minister for Economy Abdullah Bin Touq Al Marri here       The ministers launched  India UAE Start up Bridge  at the India UAE Partnership Summit  organised by industry body CII here        Clearly millions of jobs will be added if our exports which are now at about USD    billion  which is about nearly Rs     lakh crore  grows as we are planning  And my own guess estimate is this partnership can finally go up to about USD     billion of bilateral trade on both sides        So my sense is that this will give a big boost to economic growth  to jobs  And the opportunities it opens not only in the UAE  but in the larger ground for the African region   It  should significantly give a bump up to the Indian economy as well   Goyal said       He added that the pact would not only open doors for Indian businesses to UAE but also to other countries as UAE is a transit point for large parts of Africa  CIS  Commonwealth of Independent States  countries  and the Gulf region       CIS countries include Armenia  Azerbaijan  Belarus  Georgia  Kazakhstan  Kyrgyzstan  Moldova  Russia  and Tajikistan       Further  Goyal said that Indian pharma products will get immediate access to the UAE market and  we believe  bilateral  trade will grow to at least to USD     billion in the near future    Our own commitment is to take it to a much higher level       According to the minister  the framework is expected to add a million jobs in India and provide opportunities to the startup ecosystem in the country and has huge potential for engagement on skill development and education        We are looking at significant investments as the UAE has committed over USD     billion of investments into India in manufacturing  infrastructure   and  service  s   So the business will get a booster shot   the minister said       He informed that there are a large number of startups which have emerged in the last six years  with more than        registered with the ministry       India also has over     unicorns with the third largest startup ecosystem in the world  he said       The UAE minister said the pact will add     per cent GDP growth to their economy       He also said the agreement is not just on products and commodities but also into services  adding that there are other opportunities that can come along        Now  the growth that we re looking at  that we want to reach USD     billion dollars from USD    billion or so today  in the next decade    Our economic modelling showed that this is an opportunity of growth  it can actually reach that number   the minister said   T',\n",
       " 'Indian Tea Association seeks govt help as heavy rains bring Assam to a standstill As a result of the floods and landslides at several places  road communication between Barak Valley and the Brahmaputra Valley has been disrupted     This in turn has severely affected the supply of several essential inputs and the dispatch of made teas  Disruption of road communication to several tea estates from the major towns of that region have been affected     ITA said  ReutersIndian Tea Association has sought the help of the Assam government for appropriate measures to protect life and livelihood in that region Severe floods in Assam have given a major blow to the tea estates in Barak Valley  which is located in the southern part of the state  As the road communication between the Barak valley and Brahmaputra Valley has been disrupted  tea estates have not been able to dispatch teas which is causing serious financial bottlenecks to the industry     Indian Tea Association has sought the help of the Assam government for appropriate measures to protect life and livelihood in that region     Barak Valley tea Industry which has historically been suffering from several traditional problems is also reeling under severe economic crisis due to long recessionary conditions     Owing to incessant rainfall since the first week of May  the whole of Barak Valley is in the grip of severe floods  All the rivers which are reportedly flowing much above the danger level have caused erosion in several areas apart from submerging several towns of that region including Silchar  the main hub of activities     As a result of the floods and landslides at several places  road communication between Barak Valley and the Brahmaputra Valley has been disrupted        This in turn has severely affected the supply of several essential inputs and the dispatch of made teas  Disruption of road communication to several tea estates from the major towns of that region have been affected     ITA said      The inclement weather is also causing disruptions in power and instability in telecommunications     ITA said that there is great apprehension of scarcity of essential items like coal  If this kind of weather conditions continue  shortage of food items in the coming days cannot be ruled out  the association said       ',\n",
       " 'WhatsApp plans cashback for peer transfers  merchant payments in India push WhatsApp will before the end of May launch the cashback offer of up to    Indian rupees         for transfers users make on its payments service  which allows contacts to send each other funds from within the messenger app  said the sources  who have direct knowledge of the company s plans  ReutersWhatsApp also wants to test such incentives for those making mobile payments for Reliance Jio WhatsApp will within weeks roll out cashback rewards to lure more Indians to its peer to peer payments service and is testing similar incentives for merchant payments  two sources said  as the company seeks to compete with rivals including Google     The latest move comes days after WhatsApp won regulatory approval to more than double its payments offering to     million users in India  its biggest market with more than half a billion users overall     WhatsApp will before the end of May launch the cashback offer of up to    Indian rupees         for transfers users make on its payments service  which allows contacts to send each other funds from within the messenger app  said the sources  who have direct knowledge of the company s plans     The incentive  spread over three transactions  will be given irrespective of the amount being transferred  even if it is as little as   Indian rupee  in what one source described as WhatsApp s  user acquisition drive      The WhatsApp cashback amount may appear small  but Neil Shah  vice president of research at Counterpoint Research  said it would be a  compelling enough  reason for users to switch      You won t leave money on the table as an Indian   Shah said     In a statement responding to a question from Reuters  WhatsApp said it is  running a campaign offering cashback incentives in a phased manner to our users as a way to unlock the potential of payments on WhatsApp      Separately  in a broader payments push  WhatsApp is testing a programme where it will dole out cashback incentives for users who pay highway tolls and utility and other bills straight from the app  the two sources said     WhatsApp also wants to test such incentives for those making mobile payments for Reliance Jio  India s biggest telecom operator  the sources said  Reliance is a partner of WhatsApp whose parent Meta Platforms Inc in      invested      billion in the Indian firm s digital arm     WhatsApp did not comment on these plans  while Reliance didn t respond to a request for comment     The cashback push comes after WhatsApp in June      conducted an internal study to assess competition in India  Seen by Reuters  the  Winning from behind on India payments   study says  incentives are among the top sign up reasons for our competitor apps  in India     WhatsApp also assessed it needs to go beyond peer to peer payments as users use rival apps to make merchant and bill payments which  the study stated  will be a  more attractive proposition  for users  to switch over  to WhatsApp     WhatsApp competes with Alphabet Inc s Google Pay  Ant Group backed Paytm and Walmart s PhonePe in India s crowded digital payments market     WhatsApp s growth has been hamstrung as India has for months capped the number of users to which it can offer its payments service on fears that opening it to all its users could strain the country s financial infrastructure  Reuters has reported       T',\n",
       " 'India slams WTO response to Covid  sticks to fishery stance Commerce and industry minister Piyush Goyal said the WTO should not negotiate rules on non trade related subjects like climate change and gender  which legitimately fall within the domain of other inter governmental organisations  PTIGoyal said the humanitarian crisis triggered by spiraling food inflation is a  matter of deep concern  and the Covid    pandemic has reinforced the need and efficacy of food stockholding for the public good  This story originally appeared in  on Jun          India hit out at the World Trade Organization  WTO  members for not responding to the pandemic in time while urging the multilateral trade body to give priority to a permanent solution for public stockholding before moving to new areas     India also stuck to its tough stand on fisheries subsidies  demanding that rich nations presently providing not specific fuel subsidies must be subjected to some kind of discipline     Speaking at the Plenary Session of the   th Ministerial Conference of WTO in Geneva on Sunday  commerce and industry minister Piyush Goyal said the WTO should not negotiate rules on non trade related subjects like climate change and gender  which legitimately fall within the domain of other inter governmental organisations     His statement assumes significance in the wake of decisions on plurilaterals on the environment  gender and MSMEs making their way into the draft outcome of the WTO MC   despite many countries opposed to such initiatives     Goyal said the humanitarian crisis triggered by spiraling food inflation is a  matter of deep concern  and the Covid    pandemic has reinforced the need and efficacy of food stockholding for the public good          Fighting for rights of our farmers within an hour of landing at WTO  Geneva at the G   Ministerial Meeting  Discussed prospects of a permanent solution to public stockholding for food security with DG Ngozi Okonjo Iweala and my counterparts from developing and least developed nations   Goyal tweeted     Goyal made it clear that the country will not buckle under pressure from the developed world to sign any agreement  including the one on fisheries subsidies  during the June       global trade meet as the new text of the draft pact sent for consideration to the ministers has failed to address its concerns     At the plenary  he also said that India ramped up supplies of medical products to provide medical and health items globally but the WTO could not respond with alacrity   The rich countries need to introspect  We need to bow our head in shame for our inability to respond to the pandemic   Goyal said   We have let down the people of the LDCs and developing countries      Goyal said the rights of Indian fishermen and women cannot be curtailed in any manner      On the contrary  those nations responsible for depleted fish stock should assume responsibility  having exploited the oceans for far too long by giving subsidies   he said     In reply to ET s question on whether the much awaited fisheries subsidies pact can go through in the backdrop of India s stiff opposition  WTO Director General Ngozi Okonjo Iweala said   We will try our best to get the fisheries subsidies agreement through  We know we are in a good stage  But whatever happens I want you to know we have made so much progress that we are going to land it either now or later  MC      hinting at the possibility of searching for a solution only by the next ministerial     India introduced a component on deep sea vessels for traditional fishermen only in         under its flagship Rs        crore PM Matsya Sampada Yojana     While reiterating that New Delhi is keen to finalise the pact to end irrational subsidies and overfishing  India is making it clear that to achieve sustainability  big fishing subsidisers  for instance EU  US  China  Japan et al  must take greater responsibility to curtail subsidies and their fishing capacities     The other formal negotiations scheduled during the four day long MC   include WTO s response to the pandemic  including a waiver of Trade Related Aspects of Intellectual Property Rights  TRIPS   food security   both subjects being scheduled for June     fisheries subsidies and agriculture on June     and finally  WTO reforms and ecommerce on June          G    Bilaterals    At the G   ministerial meeting  he called upon the G    group of developing countries work collectively and reach out to other like minded nations to secure their support in getting a fair  balanced and development centric outcome at the WTO which must include a permanent solution for the public stockholding and special safeguard mechanism  The G   group includes    developing and least developed countries     The minister said that the two items primarily on the agenda this time are a solution to public stockholding and the special safeguard mechanism to address the destabilising and crippling effects of import surges and downward price movement largely due to huge subsidies by the developed nations        Shantanu Sharma is in Geneva at the invitation of commerce and industry ministry',\n",
       " 'ET Awards       RBI rate hike no surprise  though timing may be  says FM Nirmala Sitharaman Speaking at the Economic Times Awards for Corporate Excellence       Sitharaman said the RBI rate hike was a surprise only because it came between two meetings of the Monetary Policy Committees  ET Corporate Excellence Awards       RBI rate hike not surprising  says FM Nirmala SitharamanFinance minister Nirmala Sitharaman said the Centre hadn   t been surprised by the Reserve Bank of India  RBI  raising interest rates this week and doesn   t see the move affecting the government   s infrastructure investment        It is the timing which came as a surprise to many  but the act people thought should have been done anyway     to what extent could have varied     she said at The Economic Times Awards for Corporate Excellence that was held in Mumbai on Saturday evening     It came as a surprise because it came between two monetary policy reviews        She noted that in the April policy review  RBI had indicated that it was time to act on inflation     Sitharaman was presented with the ET Award for Business Reformer for having guided the Indian economy through the most turbulent times in recent history  at a glittering ceremony attended by top ministers and bureaucrats as well as the cream of the Indian industry     RBI raised interest rates for the first time in more than three years on May    following an unscheduled policy review to rein in prices     The finance minister also said it makes perfect sense to buy oil from Russia if it   s being offered to India at a discounted rate  particularly with inflation on the rise globally     I thought we have been spending a lot of time explaining India   s position  not just on the abstentions  on Ukraine  when voting took place  at the United Nations   but also on the fact that if Russia is offering it to us at a discounted rate  we will still be buying it because it makes perfect sense  particularly when the world is stressed out with inflation     she said       Best Interests Amid Inflation  Sitharaman said this was in the best interests of the nation when commodities prices are sending inflation higher     I think we ll go ahead with what is good for the country  We need cheaper fuel  If it is available  why won   t we want to buy it  We will buy it     she said     The finance minister observed that she sees a greater understanding among central banks worldwide and that inflation in India isn   t as much as it is in the US or the UK        But still the challenge of recovery versus inflation seems to be following a particular template across the globe     she said  adding that understanding how to handle the post pandemic recovery is  therefore  not unique and typical just to India       GST Rates  Sitharaman ruled out any major decision on rate rationalisation at the next Goods and Services Tax  GST  Council meeting     I want the media to please absorb everything that I   m saying     it   s not happening in the next meeting obviously     she said     Once the rate panel   s report on the issue was completed  it will be circulated in the council for discussion     I would think that the committee   s report itself is not before me     she said     It is too presumptuous for me to think it   s going to happen in the next meeting          Food  Fertiliser Subsidy  The food subsidy programme will continue as long as it   s needed        We did understand that till such a time as we are confident  of  recovery and are confident that the poor are able to stand up for themselves and earn their livelihood comfortably  we wanted to extend the food programme  for which the outer understanding of our limit  is  Rs         lakh crore  In a way  that calculation has been in our minds  and even during the budget preparation  that was well in our consideration zone     she said     The government is conscious the fertiliser subsidy may rise even this year  so farmers aren   t burdened     So  to an extent  we were prepared for an additional allocation both for the  Pradhan Mantri Garib Kalyan  Anna Yojana and also for the fertilisers     Sitharaman said       Crypto Assets  The minister said India   s stance on taxing crypto assets has been appreciated by multilateral agencies        The concern in the IMF  International Monetary Fund  and in multilateral institutions is that because there is not enough regulatory mechanism  cryptos should not end up violating those FATF  Financial Action Task Force  norms     said Sitharaman     India took a step forward by taxing the crypto transactions and has been well received    they see it as an out of box solution to tracking the money          Originally published on May           In Video                    ET Corporate Excellence Awards       RBI rate hike not surprising  says FM Nirmala Sitharaman']"
      ]
     },
     "execution_count": 14,
     "metadata": {},
     "output_type": "execute_result"
    }
   ],
   "source": [
    "corpus[:10]"
   ]
  },
  {
   "cell_type": "code",
   "execution_count": 15,
   "metadata": {},
   "outputs": [
    {
     "name": "stdout",
     "output_type": "stream",
     "text": [
      "10428 ['edibles', 'registered', 'monthly', 'Mayfield', 'multi', 'Instead', 'bears', 'besides', 'mechanical', 'Insider', 'loans', 'Wall', 'treatment', 'geo', 'Doesn', 'Hyper', 'contravention', 'abolishment', 'event', 'Runwal']\n"
     ]
    }
   ],
   "source": [
    "vocab = set()\n",
    "\n",
    "for s in corpus:\n",
    "    vocab.update(s.split())\n",
    "\n",
    "vocab_size = len(vocab)\n",
    "print(vocab_size,list(vocab)[:20])"
   ]
  },
  {
   "cell_type": "code",
   "execution_count": 16,
   "metadata": {},
   "outputs": [
    {
     "name": "stdout",
     "output_type": "stream",
     "text": [
      "400 ['banks', 'holding', 'on', 'to', 'subsidy', 'share', 'say', 'payments', 'firms', 'the', 'companies', 'have', 'written', 'to', 'the', 'national', 'payments', 'corp', 'of', 'india', 'npci', 'complaining', 'that', 'crore', 'of', 'the', 'crore', 'granted', 'in', 'the', 'budget', 'is', 'being', 'retained', 'by', 'banks', 'reuterspayments', 'companies', 'and', 'banks', 'are', 'at', 'loggerheads', 'over', 'the', 'sharing', 'of', 'government', 'granted', 'subsidies', 'for', 'building', 'payment', 'infrastructure', 'said', 'three', 'people', 'with', 'knowledge', 'of', 'the', 'matter', 'the', 'companies', 'have', 'written', 'to', 'the', 'national', 'payments', 'corp', 'of', 'india', 'npci', 'complaining', 'that', 'crore', 'of', 'the', 'crore', 'granted', 'in', 'the', 'budget', 'is', 'being', 'retained', 'by', 'banks', 'they', 'said', 'this', 'has', 'deprived', 'companies', 'connecting', 'up', 'the', 'last', 'mile', 'of', 'state', 'promised', 'revenues', 'according', 'to', 'them', 'the', 'government', 'granted', 'the', 'subsidies', 'in', 'exchange', 'for', 'waiving', 'merchant', 'discount', 'rate', 'mdr', 'charges', 'the', 'government', 'has', 'released', 'crore', 'worth', 'of', 'subsidies', 'to', 'banks', 'but', 'they', 'are', 'not', 'sharing', 'it', 'with', 'any', 'payment', 'aggregators', 'said', 'the', 'ceo', 'of', 'payments', 'company', 'on', 'condition', 'of', 'anonymity', 'compensation', 'for', 'mdr', 'waiver', 'we', 'have', 'taken', 'up', 'the', 'matter', 'with', 'npci', 'which', 'is', 'the', 'nodal', 'agency', 'but', 'the', 'feedback', 'that', 'we', 'got', 'is', 'that', 'we', 'should', 'take', 'the', 'matter', 'up', 'with', 'respective', 'banks', 'but', 'they', 'are', 'not', 'responding', 'last', 'year', 'finance', 'minister', 'nirmala', 'sitharaman', 'had', 'announced', 'rs', 'crore', 'fund', 'to', 'hasten', 'the', 'expansion', 'of', 'india', 'digital', 'payments', 'industry', 'move', 'that', 'was', 'seen', 'as', 'compensating', 'for', 'the', 'waiver', 'of', 'mdr', 'on', 'the', 'use', 'of', 'the', 'unified', 'payments', 'interface', 'upi', 'and', 'rupay', 'cards', 'in', 'her', 'previous', 'budget', 'payment', 'aggregators', 'are', 'entitled', 'to', 'receive', 'basis', 'point', 'subvention', 'on', 'small', 'value', 'digital', 'transactions', 'basis', 'point', 'is', 'percentage', 'point', 'we', 'have', 'asked', 'all', 'banks', 'for', 'whom', 'we', 'process', 'transactions', 'on', 'the', 'rupay', 'debit', 'cards', 'they', 'are', 'not', 'sharing', 'any', 'subsidy', 'amount', 'with', 'us', 'said', 'another', 'ceo', 'payment', 'aggregators', 'put', 'in', 'so', 'much', 'effort', 'to', 'acquire', 'transactions', 'on', 'the', 'rupay', 'platform', 'when', 'most', 'banks', 'were', 'either', 'surrendering', 'these', 'cards', 'or', 'going', 'slow', 'on', 'expansion', 'banks', 'didn', 'respond', 'to', 'queries', 'on', 'the', 'matter', 'currently', 'the', 'cost', 'of', 'digital', 'payment', 'services', 'such', 'as', 'switching', 'fees', 'or', 'interchange', 'fees', 'is', 'borne', 'by', 'one', 'or', 'more', 'of', 'the', 'payment', 'system', 'participants', 'or', 'is', 'passed', 'on', 'to', 'merchants', 'through', 'the', 'mdr', 'or', 'ultimately', 'levied', 'on', 'the', 'customer', 'as', 'additional', 'charges', 'the', 'reserve', 'bank', 'of', 'india', 'rbi', 'said', 'it', 'will', 'carry', 'out', 'comprehensive', 'review', 'of', 'all', 'aspects', 'related', 'to', 'charges', 'involved', 'in', 'various', 'channels', 'of', 'digital', 'payments', 'in', 'the', 'recently', 'released', 'payments', 'vision', 'document', 'we', 'believe', 'this', 'review', 'could', 'result', 'in', 'relatively', 'higher', 'credit', 'card', 'and', 'wallet', 'mdrs', 'and', 'the', 'introduction', 'of', 'mdr', 'on', 'upi', 'to', 'at', 'least', 'cover', 'the', 'cost', 'said', 'anand', 'dama', 'senior', 'research', 'analyst', 'emkay', 'global', 'while', 'the', 'adoption', 'of', 'electronic', 'payments', 'has', 'surged', 'concerns', 'abound', 'over', 'viability', 'total', 'digital', 'payments', 'rose', 'and', 'in', 'terms', 'of', 'volume', 'and', 'value', 'respectively', 'in', 'march', 'from', 'the', 'year', 'earlier', 'according', 'to', 'rbi', 'data', 'on', 'the', 'other', 'hand', 'usage', 'of', 'paper', 'instruments', 'such', 'as', 'cheques', 'declined', 'significantly', 'during', 'the', 'period', 'with', 'their', 'share', 'in', 'total', 'retail', 'payments', 'registering', 'decline', 'from', 'to', 'in', 'terms', 'of', 'volume', 'and', 'from', 'to', 'in', 'terms', 'of', 'value']\n"
     ]
    }
   ],
   "source": [
    "import gensim\n",
    "\n",
    "documents = []\n",
    "for article in corpus:\n",
    "    documents.append(gensim.utils.simple_preprocess(article))\n",
    "print(len(documents),documents[0])"
   ]
  },
  {
   "cell_type": "markdown",
   "metadata": {},
   "source": [
    "___\n",
    "# Word2Vec"
   ]
  },
  {
   "cell_type": "code",
   "execution_count": 17,
   "metadata": {},
   "outputs": [],
   "source": [
    "from gensim.models import KeyedVectors\n",
    "\n",
    "# load pretrained embeddings\n",
    "model = KeyedVectors.load_word2vec_format(\"embeddings/bankfinvec_100d_v1.txt\")"
   ]
  },
  {
   "cell_type": "code",
   "execution_count": 18,
   "metadata": {},
   "outputs": [],
   "source": [
    "#save embeddings\n",
    "model.save(\"embeddings/bankfin_wv\")"
   ]
  },
  {
   "cell_type": "code",
   "execution_count": 30,
   "metadata": {},
   "outputs": [],
   "source": [
    "model = KeyedVectors.load(\"bankfin_wv\")"
   ]
  },
  {
   "cell_type": "code",
   "execution_count": 36,
   "metadata": {},
   "outputs": [],
   "source": [
    "def text_to_mean_vector(embeddings, text):\n",
    "    tokens = text.split()\n",
    "    vectors = []\n",
    "\n",
    "    for token in tokens:\n",
    "        try:\n",
    "            vector = embeddings.get_vector(token)\n",
    "            vectors.append(vector)\n",
    "        except KeyError:\n",
    "            pass  # ignore out-of-vocabulary tokens\n",
    "\n",
    "    mean_vector = np.mean(vectors, axis=0)\n",
    "\n",
    "    return mean_vector"
   ]
  },
  {
   "cell_type": "code",
   "execution_count": 37,
   "metadata": {},
   "outputs": [
    {
     "name": "stdout",
     "output_type": "stream",
     "text": [
      "(400, 100) (400,)\n"
     ]
    }
   ],
   "source": [
    "mean_embeddings_corpus = []\n",
    "for c in corpus:\n",
    "    mean_embeddings_corpus.append(text_to_mean_vector(model, c))\n",
    "\n",
    "X = np.array(mean_embeddings_corpus)\n",
    "y = dataset[\"Final Status\"]\n",
    "\n",
    "\n",
    "print(X.shape, y.shape)"
   ]
  },
  {
   "cell_type": "code",
   "execution_count": 39,
   "metadata": {},
   "outputs": [],
   "source": [
    "# def text_to_max(embeddings, text):\n",
    "#     tokens = text.split()\n",
    "#     vectors = []\n",
    "\n",
    "#     for token in tokens:\n",
    "#         try:\n",
    "#             vector = embeddings.get_vector(token)\n",
    "#             vectors.append(vector)\n",
    "#         except KeyError:\n",
    "#             pass  # ignore out-of-vocabulary tokens\n",
    "\n",
    "#     stacked_vectors = np.stack(vectors)\n",
    "#     max_vector = np.max(stacked_vectors, axis=0)\n",
    "\n",
    "#     return max_vector"
   ]
  },
  {
   "cell_type": "code",
   "execution_count": 40,
   "metadata": {},
   "outputs": [],
   "source": [
    "# max_embeddings_corpus = []\n",
    "# for c in corpus:\n",
    "#     max_embeddings_corpus.append(text_to_max(model, c))\n",
    "\n",
    "# X = np.array(max_embeddings_corpus)\n",
    "\n",
    "# print(X.shape)"
   ]
  },
  {
   "cell_type": "code",
   "execution_count": 41,
   "metadata": {},
   "outputs": [
    {
     "name": "stdout",
     "output_type": "stream",
     "text": [
      "(320, 100) (320,)\n",
      "(80, 100) (80,)\n",
      "\n",
      "Label distribution in the training set:\n",
      "Final Status\n",
      "1    176\n",
      "0    144\n",
      "Name: count, dtype: int64\n",
      "\n",
      "Label distribution in the test set:\n",
      "Final Status\n",
      "0    40\n",
      "1    40\n",
      "Name: count, dtype: int64\n"
     ]
    }
   ],
   "source": [
    "from sklearn.model_selection import (\n",
    "    train_test_split,\n",
    "    ParameterGrid,\n",
    "    GridSearchCV,\n",
    ")\n",
    "\n",
    "X_train, X_test, y_train, y_test = train_test_split(\n",
    "    X, y, test_size=0.2, random_state=42\n",
    ")\n",
    "\n",
    "print(X_train.shape, y_train.shape)\n",
    "print(X_test.shape, y_test.shape)\n",
    "\n",
    "print(\"\\nLabel distribution in the training set:\")\n",
    "print(y_train.value_counts())\n",
    "\n",
    "print(\"\\nLabel distribution in the test set:\")\n",
    "print(y_test.value_counts())"
   ]
  },
  {
   "cell_type": "code",
   "execution_count": 42,
   "metadata": {},
   "outputs": [],
   "source": [
    "from sklearn.pipeline import Pipeline\n",
    "from sklearn.metrics import accuracy_score, precision_score, recall_score, f1_score\n",
    "from sklearn.ensemble import RandomForestClassifier\n",
    "from sklearn.linear_model import LogisticRegression\n",
    "from sklearn.tree import DecisionTreeClassifier\n",
    "from sklearn.svm import SVC\n",
    "from sklearn.neural_network import MLPClassifier\n",
    "from xgboost import XGBClassifier"
   ]
  },
  {
   "cell_type": "code",
   "execution_count": 43,
   "metadata": {},
   "outputs": [],
   "source": [
    "classifiers = {\n",
    "    \"Logistic Regression\": LogisticRegression(),\n",
    "    \"Decision Tree\": DecisionTreeClassifier(),\n",
    "    \"Random Forest\": RandomForestClassifier(),\n",
    "    \"SVC\": SVC(),\n",
    "    \"Multi-Layer Perceptron\": MLPClassifier(),\n",
    "    \"XGBoost\": XGBClassifier(),\n",
    "}"
   ]
  },
  {
   "cell_type": "code",
   "execution_count": 44,
   "metadata": {},
   "outputs": [],
   "source": [
    "def evaluate_classifier(classifier, X_train, y_train, X_test, y_test):\n",
    "    classifier.fit(X_train, y_train)\n",
    "    y_pred = classifier.predict(X_test)\n",
    "    accuracy = accuracy_score(y_test, y_pred)\n",
    "    precision = precision_score(y_test, y_pred)\n",
    "    recall = recall_score(y_test, y_pred)\n",
    "    f1 = f1_score(y_test, y_pred)\n",
    "    return accuracy, precision, recall, f1"
   ]
  },
  {
   "cell_type": "code",
   "execution_count": 45,
   "metadata": {},
   "outputs": [],
   "source": [
    "best_params_so_far = {\n",
    "    \"Logistic Regression\": {\n",
    "        \"C\": 10.0,\n",
    "        \"max_iter\": 1000,\n",
    "        \"penalty\": \"l1\",\n",
    "        \"solver\": \"liblinear\",\n",
    "    },\n",
    "    \"Decision Tree\": {\n",
    "        \"criterion\": \"entropy\",\n",
    "        \"max_depth\": 20,\n",
    "        \"min_samples_leaf\": 4,\n",
    "        \"min_samples_split\": 2,\n",
    "    },\n",
    "    \"Random Forest\": {\n",
    "        \"max_depth\": None,\n",
    "        \"min_samples_leaf\": 2,\n",
    "        \"min_samples_split\": 5,\n",
    "        \"n_estimators\": 300,\n",
    "    },\n",
    "    \"SVC\": {\"C\": 10.0, \"gamma\": \"scale\", \"kernel\": \"sigmoid\"},\n",
    "    \"Multi-Layer Perceptron\": {\n",
    "        \"activation\": \"identity\",\n",
    "        \"alpha\": 0.01,\n",
    "        \"early_stopping\": True,\n",
    "        \"hidden_layer_sizes\": (25, 25, 25),\n",
    "        \"max_iter\": 500,\n",
    "        \"n_iter_no_change\": 10,\n",
    "    },\n",
    "    \"XGBoost\": {\n",
    "        \"learning_rate\": 0.01,\n",
    "        \"max_depth\": 6,\n",
    "        \"n_estimators\": 200,\n",
    "        \"subsample\": 0.8,\n",
    "    },\n",
    "}"
   ]
  },
  {
   "cell_type": "code",
   "execution_count": 46,
   "metadata": {},
   "outputs": [],
   "source": [
    "best_params = best_params_so_far"
   ]
  },
  {
   "cell_type": "code",
   "execution_count": 47,
   "metadata": {},
   "outputs": [],
   "source": [
    "classifiers_tuned = {\n",
    "    \"Logistic Regression\": LogisticRegression(**best_params[\"Logistic Regression\"]),\n",
    "    \"Decision Tree\": DecisionTreeClassifier(**best_params[\"Decision Tree\"]),\n",
    "    \"Random Forest\": RandomForestClassifier(**best_params[\"Random Forest\"]),\n",
    "    \"SVC\": SVC(**best_params[\"SVC\"]),\n",
    "    \"Multi-Layer Perceptron\": MLPClassifier(**best_params[\"Multi-Layer Perceptron\"]),\n",
    "    \"XGBoost\": XGBClassifier(**best_params[\"XGBoost\"]),\n",
    "}"
   ]
  },
  {
   "cell_type": "code",
   "execution_count": 48,
   "metadata": {},
   "outputs": [],
   "source": [
    "evaluations = {\n",
    "    classifier_name: evaluate_classifier(classifier, X_train, y_train, X_test, y_test)\n",
    "    for classifier_name, classifier in classifiers_tuned.items()\n",
    "}"
   ]
  },
  {
   "cell_type": "code",
   "execution_count": 49,
   "metadata": {},
   "outputs": [
    {
     "data": {
      "image/png": "[encoded data removed]",
      "text/plain": [
       "<Figure size 1200x1000 with 4 Axes>"
      ]
     },
     "metadata": {},
     "output_type": "display_data"
    },
    {
     "name": "stdout",
     "output_type": "stream",
     "text": [
      "Classifier: Logistic Regression\n",
      "Accuracy: 0.62\n",
      "Precision: 0.61\n",
      "Recall: 0.68\n",
      "F1 Score: 0.64\n",
      "------------------------------\n",
      "Classifier: Decision Tree\n",
      "Accuracy: 0.64\n",
      "Precision: 0.65\n",
      "Recall: 0.60\n",
      "F1 Score: 0.62\n",
      "------------------------------\n",
      "Classifier: Random Forest\n",
      "Accuracy: 0.61\n",
      "Precision: 0.59\n",
      "Recall: 0.72\n",
      "F1 Score: 0.65\n",
      "------------------------------\n",
      "Classifier: SVC\n",
      "Accuracy: 0.72\n",
      "Precision: 0.72\n",
      "Recall: 0.72\n",
      "F1 Score: 0.72\n",
      "------------------------------\n",
      "Classifier: Multi-Layer Perceptron\n",
      "Accuracy: 0.57\n",
      "Precision: 0.55\n",
      "Recall: 0.85\n",
      "F1 Score: 0.67\n",
      "------------------------------\n",
      "Classifier: XGBoost\n",
      "Accuracy: 0.57\n",
      "Precision: 0.56\n",
      "Recall: 0.68\n",
      "F1 Score: 0.61\n",
      "------------------------------\n"
     ]
    }
   ],
   "source": [
    "import matplotlib.pyplot as plt\n",
    "\n",
    "metrics_names = [\"Accuracy\", \"Precision\", \"Recall\", \"F1 Score\"]\n",
    "fig, axs = plt.subplots(2, 2, figsize=(12, 10))\n",
    "\n",
    "colors = [\"blue\", \"orange\", \"green\", \"red\", \"pink\", \"brown\", \"purple\"]\n",
    "\n",
    "for i, metric in enumerate(metrics_names):\n",
    "    row = i // 2\n",
    "    col = i % 2\n",
    "    scores = [evaluation[i] for evaluation in evaluations.values()]\n",
    "    axs[row, col].bar(classifiers.keys(), scores, color=colors)\n",
    "    axs[row, col].set_title(metric)\n",
    "    axs[row, col].set_ylabel(\"Score\")\n",
    "    axs[row, col].set_ylim([0, 1])\n",
    "    axs[row, col].tick_params(axis=\"x\", labelrotation=45, labelsize=\"small\")\n",
    "\n",
    "plt.tight_layout()\n",
    "plt.show()\n",
    "\n",
    "for classifier_name, metrics in evaluations.items():\n",
    "    print(f\"Classifier: {classifier_name}\")\n",
    "    print(f\"Accuracy: {metrics[0]:.2f}\")\n",
    "    print(f\"Precision: {metrics[1]:.2f}\")\n",
    "    print(f\"Recall: {metrics[2]:.2f}\")\n",
    "    print(f\"F1 Score: {metrics[3]:.2f}\")\n",
    "    print(\"-\" * 30)"
   ]
  },
  {
   "cell_type": "code",
   "execution_count": null,
   "metadata": {},
   "outputs": [],
   "source": []
  }
 ],
 "metadata": {
  "kernelspec": {
   "display_name": "Python 3 (ipykernel)",
   "language": "python",
   "name": "python3"
  },
  "language_info": {
   "codemirror_mode": {
    "name": "ipython",
    "version": 3
   },
   "file_extension": ".py",
   "mimetype": "text/x-python",
   "name": "python",
   "nbconvert_exporter": "python",
   "pygments_lexer": "ipython3",
   "version": "3.11.7"
  }
 },
 "nbformat": 4,
 "nbformat_minor": 4
}
